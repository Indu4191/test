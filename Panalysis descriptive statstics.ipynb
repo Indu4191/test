{
 "cells": [
  {
   "cell_type": "markdown",
   "metadata": {},
   "source": [
    "# Panalysis Business Analytics Case Study"
   ]
  },
  {
   "cell_type": "markdown",
   "metadata": {},
   "source": [
    "**Author** Indraja Bandla\n"
   ]
  },
  {
   "cell_type": "markdown",
   "metadata": {},
   "source": [
    "<a id='stats'></a>\n",
    "# 2.Provide descriptive statistics for each list "
   ]
  },
  {
   "cell_type": "code",
   "execution_count": 7,
   "metadata": {
    "collapsed": false
   },
   "outputs": [
    {
     "data": {
      "text/html": [
       "<div>\n",
       "<table border=\"1\" class=\"dataframe\">\n",
       "  <thead>\n",
       "    <tr style=\"text-align: right;\">\n",
       "      <th></th>\n",
       "      <th>DateAddedToList</th>\n",
       "      <th>SubscriberID</th>\n",
       "      <th>ListID</th>\n",
       "      <th>CurrentStatus</th>\n",
       "    </tr>\n",
       "  </thead>\n",
       "  <tbody>\n",
       "    <tr>\n",
       "      <th>count</th>\n",
       "      <td>189155</td>\n",
       "      <td>189155</td>\n",
       "      <td>189155</td>\n",
       "      <td>189155</td>\n",
       "    </tr>\n",
       "    <tr>\n",
       "      <th>unique</th>\n",
       "      <td>46547</td>\n",
       "      <td>108858</td>\n",
       "      <td>24</td>\n",
       "      <td>6</td>\n",
       "    </tr>\n",
       "    <tr>\n",
       "      <th>top</th>\n",
       "      <td>22/08/2012 11:44</td>\n",
       "      <td>5c8eef5243e2fe73481509a4d9834f3a706d4503a81241...</td>\n",
       "      <td>Your Health Tips</td>\n",
       "      <td>Active</td>\n",
       "    </tr>\n",
       "    <tr>\n",
       "      <th>freq</th>\n",
       "      <td>18755</td>\n",
       "      <td>19</td>\n",
       "      <td>34007</td>\n",
       "      <td>130623</td>\n",
       "    </tr>\n",
       "  </tbody>\n",
       "</table>\n",
       "</div>"
      ],
      "text/plain": [
       "         DateAddedToList                                       SubscriberID  \\\n",
       "count             189155                                             189155   \n",
       "unique             46547                                             108858   \n",
       "top     22/08/2012 11:44  5c8eef5243e2fe73481509a4d9834f3a706d4503a81241...   \n",
       "freq               18755                                                 19   \n",
       "\n",
       "                  ListID CurrentStatus  \n",
       "count             189155        189155  \n",
       "unique                24             6  \n",
       "top     Your Health Tips        Active  \n",
       "freq               34007        130623  "
      ]
     },
     "execution_count": 7,
     "metadata": {},
     "output_type": "execute_result"
    }
   ],
   "source": [
    "data.describe() # overall descriptive statstics"
   ]
  },
  {
   "cell_type": "code",
   "execution_count": 6,
   "metadata": {
    "collapsed": false
   },
   "outputs": [
    {
     "data": {
      "text/plain": [
       "<matplotlib.axes._subplots.AxesSubplot at 0x10e673050>"
      ]
     },
     "execution_count": 6,
     "metadata": {},
     "output_type": "execute_result"
    },
    {
     "data": {
      "image/png": "[encoded data removed]",
      "text/plain": [
       "<matplotlib.figure.Figure at 0x10498b790>"
      ]
     },
     "metadata": {},
     "output_type": "display_data"
    }
   ],
   "source": [
    "data.groupby(['year','CurrentStatus']).size().unstack().plot(kind='bar',figsize=(10,6))"
   ]
  },
  {
   "cell_type": "markdown",
   "metadata": {},
   "source": [
    "- This shows that \"Supressed\" status is not present in the list and can be excluded.\n",
    "- \"Deleted\" status can only seen in 2012 \n",
    "- Most of the data is on \"Active\" status  "
   ]
  },
  {
   "cell_type": "code",
   "execution_count": 8,
   "metadata": {
    "collapsed": false
   },
   "outputs": [
    {
     "data": {
      "text/plain": [
       "array(['Artists in Australia', 'Balkan News', 'Columbian Comedy',\n",
       "       'Dog Walkers Weekly', 'Epicurean Delights', 'Fishing with Friends',\n",
       "       'Gardening and Greenery', 'Hobbies for Profit',\n",
       "       'Iguana Lovers Monthly', 'Jalopeno Recipe of the Week',\n",
       "       'Kyoto Siteseeing', 'Llama Keepers', 'Monkey Madness',\n",
       "       'Nautical Novels', 'Obscure Fact of the Day', 'Planets and Stars',\n",
       "       'Quesadilla Recipies', 'Radical Reading',\n",
       "       'Shopping Bargin of the Day', 'Train Trips in the Ukraine',\n",
       "       'Underground Art', 'Very Funky Finds', 'Xtraordinarly GR8',\n",
       "       'Your Health Tips'], dtype=object)"
      ]
     },
     "execution_count": 8,
     "metadata": {},
     "output_type": "execute_result"
    }
   ],
   "source": [
    "data['ListID'].unique() #to know the list"
   ]
  },
  {
   "cell_type": "code",
   "execution_count": 9,
   "metadata": {
    "collapsed": false
   },
   "outputs": [
    {
     "data": {
      "text/html": [
       "<div>\n",
       "<table border=\"1\" class=\"dataframe\">\n",
       "  <thead>\n",
       "    <tr style=\"text-align: right;\">\n",
       "      <th></th>\n",
       "      <th>DateAddedToList</th>\n",
       "      <th>SubscriberID</th>\n",
       "      <th>ListID</th>\n",
       "      <th>CurrentStatus</th>\n",
       "    </tr>\n",
       "  </thead>\n",
       "  <tbody>\n",
       "    <tr>\n",
       "      <th>count</th>\n",
       "      <td>3589</td>\n",
       "      <td>3589</td>\n",
       "      <td>3589</td>\n",
       "      <td>3589</td>\n",
       "    </tr>\n",
       "    <tr>\n",
       "      <th>unique</th>\n",
       "      <td>2706</td>\n",
       "      <td>3589</td>\n",
       "      <td>1</td>\n",
       "      <td>4</td>\n",
       "    </tr>\n",
       "    <tr>\n",
       "      <th>top</th>\n",
       "      <td>10/04/2014 9:40</td>\n",
       "      <td>b8dc864e80940ac6539239a0b76b9aa3510a9386db8505...</td>\n",
       "      <td>Artists in Australia</td>\n",
       "      <td>Active</td>\n",
       "    </tr>\n",
       "    <tr>\n",
       "      <th>freq</th>\n",
       "      <td>650</td>\n",
       "      <td>1</td>\n",
       "      <td>3589</td>\n",
       "      <td>2084</td>\n",
       "    </tr>\n",
       "  </tbody>\n",
       "</table>\n",
       "</div>"
      ],
      "text/plain": [
       "        DateAddedToList                                       SubscriberID  \\\n",
       "count              3589                                               3589   \n",
       "unique             2706                                               3589   \n",
       "top     10/04/2014 9:40  b8dc864e80940ac6539239a0b76b9aa3510a9386db8505...   \n",
       "freq                650                                                  1   \n",
       "\n",
       "                      ListID CurrentStatus  \n",
       "count                   3589          3589  \n",
       "unique                     1             4  \n",
       "top     Artists in Australia        Active  \n",
       "freq                    3589          2084  "
      ]
     },
     "execution_count": 9,
     "metadata": {},
     "output_type": "execute_result"
    }
   ],
   "source": [
    "data[data['ListID']=='Artists in Australia'].describe()"
   ]
  },
  {
   "cell_type": "code",
   "execution_count": 105,
   "metadata": {
    "collapsed": true
   },
   "outputs": [],
   "source": [
    "Artists= data[data['ListID']=='Artists in Australia']"
   ]
  },
  {
   "cell_type": "code",
   "execution_count": 114,
   "metadata": {
    "collapsed": false
   },
   "outputs": [
    {
     "data": {
      "text/plain": [
       "<matplotlib.axes._subplots.AxesSubplot at 0x1204d7bd0>"
      ]
     },
     "execution_count": 114,
     "metadata": {},
     "output_type": "execute_result"
    },
    {
     "data": {
      "image/png": "[encoded data removed]",
      "text/plain": [
       "<matplotlib.figure.Figure at 0x11ece3110>"
      ]
     },
     "metadata": {},
     "output_type": "display_data"
    }
   ],
   "source": [
    "Artists.groupby(['year','CurrentStatus']).size().unstack().plot(kind='bar',figsize=(10,6))"
   ]
  },
  {
   "cell_type": "code",
   "execution_count": 10,
   "metadata": {
    "collapsed": false
   },
   "outputs": [
    {
     "data": {
      "text/html": [
       "<div>\n",
       "<table border=\"1\" class=\"dataframe\">\n",
       "  <thead>\n",
       "    <tr style=\"text-align: right;\">\n",
       "      <th></th>\n",
       "      <th>DateAddedToList</th>\n",
       "      <th>SubscriberID</th>\n",
       "      <th>ListID</th>\n",
       "      <th>CurrentStatus</th>\n",
       "    </tr>\n",
       "  </thead>\n",
       "  <tbody>\n",
       "    <tr>\n",
       "      <th>count</th>\n",
       "      <td>2089</td>\n",
       "      <td>2089</td>\n",
       "      <td>2089</td>\n",
       "      <td>2089</td>\n",
       "    </tr>\n",
       "    <tr>\n",
       "      <th>unique</th>\n",
       "      <td>1456</td>\n",
       "      <td>2089</td>\n",
       "      <td>1</td>\n",
       "      <td>4</td>\n",
       "    </tr>\n",
       "    <tr>\n",
       "      <th>top</th>\n",
       "      <td>27/03/2014 11:00</td>\n",
       "      <td>4796a57ae666dee4e6204f0dc1c07930ab9e1dfc8c9823...</td>\n",
       "      <td>Balkan News</td>\n",
       "      <td>Active</td>\n",
       "    </tr>\n",
       "    <tr>\n",
       "      <th>freq</th>\n",
       "      <td>544</td>\n",
       "      <td>1</td>\n",
       "      <td>2089</td>\n",
       "      <td>1084</td>\n",
       "    </tr>\n",
       "  </tbody>\n",
       "</table>\n",
       "</div>"
      ],
      "text/plain": [
       "         DateAddedToList                                       SubscriberID  \\\n",
       "count               2089                                               2089   \n",
       "unique              1456                                               2089   \n",
       "top     27/03/2014 11:00  4796a57ae666dee4e6204f0dc1c07930ab9e1dfc8c9823...   \n",
       "freq                 544                                                  1   \n",
       "\n",
       "             ListID CurrentStatus  \n",
       "count          2089          2089  \n",
       "unique            1             4  \n",
       "top     Balkan News        Active  \n",
       "freq           2089          1084  "
      ]
     },
     "execution_count": 10,
     "metadata": {},
     "output_type": "execute_result"
    }
   ],
   "source": [
    "data[data['ListID']=='Balkan News'].describe()"
   ]
  },
  {
   "cell_type": "code",
   "execution_count": 115,
   "metadata": {
    "collapsed": true
   },
   "outputs": [],
   "source": [
    "Balkan=data[data['ListID']=='Balkan News']"
   ]
  },
  {
   "cell_type": "code",
   "execution_count": 116,
   "metadata": {
    "collapsed": false
   },
   "outputs": [
    {
     "data": {
      "text/plain": [
       "<matplotlib.axes._subplots.AxesSubplot at 0x11ed15c10>"
      ]
     },
     "execution_count": 116,
     "metadata": {},
     "output_type": "execute_result"
    },
    {
     "data": {
      "image/png": "[encoded data removed]",
      "text/plain": [
       "<matplotlib.figure.Figure at 0x1164d4fd0>"
      ]
     },
     "metadata": {},
     "output_type": "display_data"
    }
   ],
   "source": [
    "Balkan.groupby(['year','CurrentStatus']).size().unstack().plot(kind='bar',figsize=(10,6))"
   ]
  },
  {
   "cell_type": "code",
   "execution_count": 11,
   "metadata": {
    "collapsed": false
   },
   "outputs": [
    {
     "data": {
      "text/html": [
       "<div>\n",
       "<table border=\"1\" class=\"dataframe\">\n",
       "  <thead>\n",
       "    <tr style=\"text-align: right;\">\n",
       "      <th></th>\n",
       "      <th>DateAddedToList</th>\n",
       "      <th>SubscriberID</th>\n",
       "      <th>ListID</th>\n",
       "      <th>CurrentStatus</th>\n",
       "    </tr>\n",
       "  </thead>\n",
       "  <tbody>\n",
       "    <tr>\n",
       "      <th>count</th>\n",
       "      <td>1977</td>\n",
       "      <td>1977</td>\n",
       "      <td>1977</td>\n",
       "      <td>1977</td>\n",
       "    </tr>\n",
       "    <tr>\n",
       "      <th>unique</th>\n",
       "      <td>18</td>\n",
       "      <td>1977</td>\n",
       "      <td>1</td>\n",
       "      <td>3</td>\n",
       "    </tr>\n",
       "    <tr>\n",
       "      <th>top</th>\n",
       "      <td>26/11/2015 16:39</td>\n",
       "      <td>dd82aa65cbeb4742877d0bcb0578e3e6553e1aec9be567...</td>\n",
       "      <td>Columbian Comedy</td>\n",
       "      <td>Active</td>\n",
       "    </tr>\n",
       "    <tr>\n",
       "      <th>freq</th>\n",
       "      <td>1946</td>\n",
       "      <td>1</td>\n",
       "      <td>1977</td>\n",
       "      <td>1958</td>\n",
       "    </tr>\n",
       "  </tbody>\n",
       "</table>\n",
       "</div>"
      ],
      "text/plain": [
       "         DateAddedToList                                       SubscriberID  \\\n",
       "count               1977                                               1977   \n",
       "unique                18                                               1977   \n",
       "top     26/11/2015 16:39  dd82aa65cbeb4742877d0bcb0578e3e6553e1aec9be567...   \n",
       "freq                1946                                                  1   \n",
       "\n",
       "                  ListID CurrentStatus  \n",
       "count               1977          1977  \n",
       "unique                 1             3  \n",
       "top     Columbian Comedy        Active  \n",
       "freq                1977          1958  "
      ]
     },
     "execution_count": 11,
     "metadata": {},
     "output_type": "execute_result"
    }
   ],
   "source": [
    "data[data['ListID']=='Columbian Comedy'].describe()"
   ]
  },
  {
   "cell_type": "code",
   "execution_count": 118,
   "metadata": {
    "collapsed": true
   },
   "outputs": [],
   "source": [
    "columbia=data[data['ListID']=='Columbian Comedy']"
   ]
  },
  {
   "cell_type": "code",
   "execution_count": 121,
   "metadata": {
    "collapsed": false
   },
   "outputs": [
    {
     "data": {
      "text/plain": [
       "<matplotlib.axes._subplots.AxesSubplot at 0x123336150>"
      ]
     },
     "execution_count": 121,
     "metadata": {},
     "output_type": "execute_result"
    },
    {
     "data": {
      "image/png": "[encoded data removed]",
      "text/plain": [
       "<matplotlib.figure.Figure at 0x1233a6290>"
      ]
     },
     "metadata": {},
     "output_type": "display_data"
    }
   ],
   "source": [
    "columbia.groupby(['year','CurrentStatus']).size().unstack().plot(kind='barh',figsize=(10,6))"
   ]
  },
  {
   "cell_type": "code",
   "execution_count": 12,
   "metadata": {
    "collapsed": false
   },
   "outputs": [
    {
     "data": {
      "text/html": [
       "<div>\n",
       "<table border=\"1\" class=\"dataframe\">\n",
       "  <thead>\n",
       "    <tr style=\"text-align: right;\">\n",
       "      <th></th>\n",
       "      <th>DateAddedToList</th>\n",
       "      <th>SubscriberID</th>\n",
       "      <th>ListID</th>\n",
       "      <th>CurrentStatus</th>\n",
       "    </tr>\n",
       "  </thead>\n",
       "  <tbody>\n",
       "    <tr>\n",
       "      <th>count</th>\n",
       "      <td>15511</td>\n",
       "      <td>15511</td>\n",
       "      <td>15511</td>\n",
       "      <td>15511</td>\n",
       "    </tr>\n",
       "    <tr>\n",
       "      <th>unique</th>\n",
       "      <td>6431</td>\n",
       "      <td>15511</td>\n",
       "      <td>1</td>\n",
       "      <td>5</td>\n",
       "    </tr>\n",
       "    <tr>\n",
       "      <th>top</th>\n",
       "      <td>17/04/2012 15:16</td>\n",
       "      <td>9023863d82b6c01f80b84b5a22e74943e9de011d3e6b6f...</td>\n",
       "      <td>Dog Walkers Weekly</td>\n",
       "      <td>Active</td>\n",
       "    </tr>\n",
       "    <tr>\n",
       "      <th>freq</th>\n",
       "      <td>5622</td>\n",
       "      <td>1</td>\n",
       "      <td>15511</td>\n",
       "      <td>10996</td>\n",
       "    </tr>\n",
       "  </tbody>\n",
       "</table>\n",
       "</div>"
      ],
      "text/plain": [
       "         DateAddedToList                                       SubscriberID  \\\n",
       "count              15511                                              15511   \n",
       "unique              6431                                              15511   \n",
       "top     17/04/2012 15:16  9023863d82b6c01f80b84b5a22e74943e9de011d3e6b6f...   \n",
       "freq                5622                                                  1   \n",
       "\n",
       "                    ListID CurrentStatus  \n",
       "count                15511         15511  \n",
       "unique                   1             5  \n",
       "top     Dog Walkers Weekly        Active  \n",
       "freq                 15511         10996  "
      ]
     },
     "execution_count": 12,
     "metadata": {},
     "output_type": "execute_result"
    }
   ],
   "source": [
    "data[data['ListID']=='Dog Walkers Weekly'].describe()"
   ]
  },
  {
   "cell_type": "code",
   "execution_count": 117,
   "metadata": {
    "collapsed": false
   },
   "outputs": [
    {
     "data": {
      "text/plain": [
       "<matplotlib.axes._subplots.AxesSubplot at 0x120830710>"
      ]
     },
     "execution_count": 117,
     "metadata": {},
     "output_type": "execute_result"
    },
    {
     "data": {
      "image/png": "[encoded data removed]",
      "text/plain": [
       "<matplotlib.figure.Figure at 0x1207f9dd0>"
      ]
     },
     "metadata": {},
     "output_type": "display_data"
    }
   ],
   "source": [
    "Dog= data[data['ListID']=='Dog Walkers Weekly']\n",
    "Dog.groupby(['year','CurrentStatus']).size().unstack().plot(kind='bar',figsize=(10,6))"
   ]
  },
  {
   "cell_type": "code",
   "execution_count": 13,
   "metadata": {
    "collapsed": false
   },
   "outputs": [
    {
     "data": {
      "text/html": [
       "<div>\n",
       "<table border=\"1\" class=\"dataframe\">\n",
       "  <thead>\n",
       "    <tr style=\"text-align: right;\">\n",
       "      <th></th>\n",
       "      <th>DateAddedToList</th>\n",
       "      <th>SubscriberID</th>\n",
       "      <th>ListID</th>\n",
       "      <th>CurrentStatus</th>\n",
       "    </tr>\n",
       "  </thead>\n",
       "  <tbody>\n",
       "    <tr>\n",
       "      <th>count</th>\n",
       "      <td>11633</td>\n",
       "      <td>11633</td>\n",
       "      <td>11633</td>\n",
       "      <td>11633</td>\n",
       "    </tr>\n",
       "    <tr>\n",
       "      <th>unique</th>\n",
       "      <td>9781</td>\n",
       "      <td>11633</td>\n",
       "      <td>1</td>\n",
       "      <td>6</td>\n",
       "    </tr>\n",
       "    <tr>\n",
       "      <th>top</th>\n",
       "      <td>11/07/2012 14:56</td>\n",
       "      <td>0bf4b63a5efa02758acb68740eb08a8d72822fdf0e1709...</td>\n",
       "      <td>Epicurean Delights</td>\n",
       "      <td>Active</td>\n",
       "    </tr>\n",
       "    <tr>\n",
       "      <th>freq</th>\n",
       "      <td>1043</td>\n",
       "      <td>1</td>\n",
       "      <td>11633</td>\n",
       "      <td>6943</td>\n",
       "    </tr>\n",
       "  </tbody>\n",
       "</table>\n",
       "</div>"
      ],
      "text/plain": [
       "         DateAddedToList                                       SubscriberID  \\\n",
       "count              11633                                              11633   \n",
       "unique              9781                                              11633   \n",
       "top     11/07/2012 14:56  0bf4b63a5efa02758acb68740eb08a8d72822fdf0e1709...   \n",
       "freq                1043                                                  1   \n",
       "\n",
       "                    ListID CurrentStatus  \n",
       "count                11633         11633  \n",
       "unique                   1             6  \n",
       "top     Epicurean Delights        Active  \n",
       "freq                 11633          6943  "
      ]
     },
     "execution_count": 13,
     "metadata": {},
     "output_type": "execute_result"
    }
   ],
   "source": [
    "data[data['ListID']=='Epicurean Delights'].describe()"
   ]
  },
  {
   "cell_type": "code",
   "execution_count": 122,
   "metadata": {
    "collapsed": true
   },
   "outputs": [],
   "source": [
    "Epicurean=data[data['ListID']=='Epicurean Delights']"
   ]
  },
  {
   "cell_type": "code",
   "execution_count": 123,
   "metadata": {
    "collapsed": false
   },
   "outputs": [
    {
     "data": {
      "text/plain": [
       "<matplotlib.axes._subplots.AxesSubplot at 0x123603f90>"
      ]
     },
     "execution_count": 123,
     "metadata": {},
     "output_type": "execute_result"
    },
    {
     "data": {
      "image/png": "[encoded data removed]",
      "text/plain": [
       "<matplotlib.figure.Figure at 0x12360d550>"
      ]
     },
     "metadata": {},
     "output_type": "display_data"
    }
   ],
   "source": [
    "Epicurean.groupby(['year','CurrentStatus']).size().unstack().plot(kind='bar',figsize=(10,6))"
   ]
  },
  {
   "cell_type": "code",
   "execution_count": 14,
   "metadata": {
    "collapsed": false
   },
   "outputs": [
    {
     "data": {
      "text/html": [
       "<div>\n",
       "<table border=\"1\" class=\"dataframe\">\n",
       "  <thead>\n",
       "    <tr style=\"text-align: right;\">\n",
       "      <th></th>\n",
       "      <th>DateAddedToList</th>\n",
       "      <th>SubscriberID</th>\n",
       "      <th>ListID</th>\n",
       "      <th>CurrentStatus</th>\n",
       "    </tr>\n",
       "  </thead>\n",
       "  <tbody>\n",
       "    <tr>\n",
       "      <th>count</th>\n",
       "      <td>1285</td>\n",
       "      <td>1285</td>\n",
       "      <td>1285</td>\n",
       "      <td>1285</td>\n",
       "    </tr>\n",
       "    <tr>\n",
       "      <th>unique</th>\n",
       "      <td>567</td>\n",
       "      <td>1285</td>\n",
       "      <td>1</td>\n",
       "      <td>4</td>\n",
       "    </tr>\n",
       "    <tr>\n",
       "      <th>top</th>\n",
       "      <td>7/07/2015 10:31</td>\n",
       "      <td>547e26e36989175eb5c71aba5419292f68710046f38fdc...</td>\n",
       "      <td>Fishing with Friends</td>\n",
       "      <td>Active</td>\n",
       "    </tr>\n",
       "    <tr>\n",
       "      <th>freq</th>\n",
       "      <td>671</td>\n",
       "      <td>1</td>\n",
       "      <td>1285</td>\n",
       "      <td>1136</td>\n",
       "    </tr>\n",
       "  </tbody>\n",
       "</table>\n",
       "</div>"
      ],
      "text/plain": [
       "        DateAddedToList                                       SubscriberID  \\\n",
       "count              1285                                               1285   \n",
       "unique              567                                               1285   \n",
       "top     7/07/2015 10:31  547e26e36989175eb5c71aba5419292f68710046f38fdc...   \n",
       "freq                671                                                  1   \n",
       "\n",
       "                      ListID CurrentStatus  \n",
       "count                   1285          1285  \n",
       "unique                     1             4  \n",
       "top     Fishing with Friends        Active  \n",
       "freq                    1285          1136  "
      ]
     },
     "execution_count": 14,
     "metadata": {},
     "output_type": "execute_result"
    }
   ],
   "source": [
    "data[data['ListID']=='Fishing with Friends'].describe()"
   ]
  },
  {
   "cell_type": "code",
   "execution_count": 124,
   "metadata": {
    "collapsed": true
   },
   "outputs": [],
   "source": [
    "Fishing=data[data['ListID']=='Fishing with Friends']"
   ]
  },
  {
   "cell_type": "code",
   "execution_count": 125,
   "metadata": {
    "collapsed": false
   },
   "outputs": [
    {
     "data": {
      "text/plain": [
       "<matplotlib.axes._subplots.AxesSubplot at 0x1236364d0>"
      ]
     },
     "execution_count": 125,
     "metadata": {},
     "output_type": "execute_result"
    },
    {
     "data": {
      "image/png": "[encoded data removed]",
      "text/plain": [
       "<matplotlib.figure.Figure at 0x123b8d990>"
      ]
     },
     "metadata": {},
     "output_type": "display_data"
    }
   ],
   "source": [
    "Fishing.groupby(['year','CurrentStatus']).size().unstack().plot(kind='bar',figsize=(10,6))"
   ]
  },
  {
   "cell_type": "code",
   "execution_count": 15,
   "metadata": {
    "collapsed": false
   },
   "outputs": [
    {
     "data": {
      "text/html": [
       "<div>\n",
       "<table border=\"1\" class=\"dataframe\">\n",
       "  <thead>\n",
       "    <tr style=\"text-align: right;\">\n",
       "      <th></th>\n",
       "      <th>DateAddedToList</th>\n",
       "      <th>SubscriberID</th>\n",
       "      <th>ListID</th>\n",
       "      <th>CurrentStatus</th>\n",
       "    </tr>\n",
       "  </thead>\n",
       "  <tbody>\n",
       "    <tr>\n",
       "      <th>count</th>\n",
       "      <td>7816</td>\n",
       "      <td>7816</td>\n",
       "      <td>7816</td>\n",
       "      <td>7816</td>\n",
       "    </tr>\n",
       "    <tr>\n",
       "      <th>unique</th>\n",
       "      <td>4168</td>\n",
       "      <td>7816</td>\n",
       "      <td>1</td>\n",
       "      <td>4</td>\n",
       "    </tr>\n",
       "    <tr>\n",
       "      <th>top</th>\n",
       "      <td>17/04/2012 15:48</td>\n",
       "      <td>ec119756ae25cdf6af15d62ca3bede38a871c917e55e52...</td>\n",
       "      <td>Gardening and Greenery</td>\n",
       "      <td>Active</td>\n",
       "    </tr>\n",
       "    <tr>\n",
       "      <th>freq</th>\n",
       "      <td>2029</td>\n",
       "      <td>1</td>\n",
       "      <td>7816</td>\n",
       "      <td>3477</td>\n",
       "    </tr>\n",
       "  </tbody>\n",
       "</table>\n",
       "</div>"
      ],
      "text/plain": [
       "         DateAddedToList                                       SubscriberID  \\\n",
       "count               7816                                               7816   \n",
       "unique              4168                                               7816   \n",
       "top     17/04/2012 15:48  ec119756ae25cdf6af15d62ca3bede38a871c917e55e52...   \n",
       "freq                2029                                                  1   \n",
       "\n",
       "                        ListID CurrentStatus  \n",
       "count                     7816          7816  \n",
       "unique                       1             4  \n",
       "top     Gardening and Greenery        Active  \n",
       "freq                      7816          3477  "
      ]
     },
     "execution_count": 15,
     "metadata": {},
     "output_type": "execute_result"
    }
   ],
   "source": [
    "data[data['ListID']=='Gardening and Greenery'].describe()"
   ]
  },
  {
   "cell_type": "code",
   "execution_count": 126,
   "metadata": {
    "collapsed": true
   },
   "outputs": [],
   "source": [
    "Gardening=data[data['ListID']=='Gardening and Greenery']"
   ]
  },
  {
   "cell_type": "code",
   "execution_count": 127,
   "metadata": {
    "collapsed": false
   },
   "outputs": [
    {
     "data": {
      "text/plain": [
       "<matplotlib.axes._subplots.AxesSubplot at 0x124784450>"
      ]
     },
     "execution_count": 127,
     "metadata": {},
     "output_type": "execute_result"
    },
    {
     "data": {
      "image/png": "[encoded data removed]",
      "text/plain": [
       "<matplotlib.figure.Figure at 0x124796a50>"
      ]
     },
     "metadata": {},
     "output_type": "display_data"
    }
   ],
   "source": [
    "Gardening.groupby(['year','CurrentStatus']).size().unstack().plot(kind='bar',figsize=(10,6))"
   ]
  },
  {
   "cell_type": "code",
   "execution_count": 16,
   "metadata": {
    "collapsed": false
   },
   "outputs": [
    {
     "data": {
      "text/html": [
       "<div>\n",
       "<table border=\"1\" class=\"dataframe\">\n",
       "  <thead>\n",
       "    <tr style=\"text-align: right;\">\n",
       "      <th></th>\n",
       "      <th>DateAddedToList</th>\n",
       "      <th>SubscriberID</th>\n",
       "      <th>ListID</th>\n",
       "      <th>CurrentStatus</th>\n",
       "    </tr>\n",
       "  </thead>\n",
       "  <tbody>\n",
       "    <tr>\n",
       "      <th>count</th>\n",
       "      <td>2814</td>\n",
       "      <td>2814</td>\n",
       "      <td>2814</td>\n",
       "      <td>2814</td>\n",
       "    </tr>\n",
       "    <tr>\n",
       "      <th>unique</th>\n",
       "      <td>1350</td>\n",
       "      <td>2814</td>\n",
       "      <td>1</td>\n",
       "      <td>4</td>\n",
       "    </tr>\n",
       "    <tr>\n",
       "      <th>top</th>\n",
       "      <td>27/01/2015 10:09</td>\n",
       "      <td>fa541c3b0e133a00f5cf136232d92b4faecab301ab523b...</td>\n",
       "      <td>Hobbies for Profit</td>\n",
       "      <td>Active</td>\n",
       "    </tr>\n",
       "    <tr>\n",
       "      <th>freq</th>\n",
       "      <td>1073</td>\n",
       "      <td>1</td>\n",
       "      <td>2814</td>\n",
       "      <td>1752</td>\n",
       "    </tr>\n",
       "  </tbody>\n",
       "</table>\n",
       "</div>"
      ],
      "text/plain": [
       "         DateAddedToList                                       SubscriberID  \\\n",
       "count               2814                                               2814   \n",
       "unique              1350                                               2814   \n",
       "top     27/01/2015 10:09  fa541c3b0e133a00f5cf136232d92b4faecab301ab523b...   \n",
       "freq                1073                                                  1   \n",
       "\n",
       "                    ListID CurrentStatus  \n",
       "count                 2814          2814  \n",
       "unique                   1             4  \n",
       "top     Hobbies for Profit        Active  \n",
       "freq                  2814          1752  "
      ]
     },
     "execution_count": 16,
     "metadata": {},
     "output_type": "execute_result"
    }
   ],
   "source": [
    "data[data['ListID']=='Hobbies for Profit'].describe()"
   ]
  },
  {
   "cell_type": "code",
   "execution_count": 167,
   "metadata": {
    "collapsed": true
   },
   "outputs": [],
   "source": [
    "Hobbies=data[data['ListID']=='Hobbies for Profit']"
   ]
  },
  {
   "cell_type": "code",
   "execution_count": 168,
   "metadata": {
    "collapsed": false
   },
   "outputs": [
    {
     "data": {
      "text/plain": [
       "<matplotlib.axes._subplots.AxesSubplot at 0x124c06cd0>"
      ]
     },
     "execution_count": 168,
     "metadata": {},
     "output_type": "execute_result"
    },
    {
     "data": {
      "image/png": "[encoded data removed]",
      "text/plain": [
       "<matplotlib.figure.Figure at 0x1233b9b50>"
      ]
     },
     "metadata": {},
     "output_type": "display_data"
    }
   ],
   "source": [
    "Hobbies.groupby(['year','CurrentStatus']).size().unstack().plot(kind='bar',figsize=(10,6))"
   ]
  },
  {
   "cell_type": "code",
   "execution_count": 17,
   "metadata": {
    "collapsed": false
   },
   "outputs": [
    {
     "data": {
      "text/html": [
       "<div>\n",
       "<table border=\"1\" class=\"dataframe\">\n",
       "  <thead>\n",
       "    <tr style=\"text-align: right;\">\n",
       "      <th></th>\n",
       "      <th>DateAddedToList</th>\n",
       "      <th>SubscriberID</th>\n",
       "      <th>ListID</th>\n",
       "      <th>CurrentStatus</th>\n",
       "    </tr>\n",
       "  </thead>\n",
       "  <tbody>\n",
       "    <tr>\n",
       "      <th>count</th>\n",
       "      <td>20617</td>\n",
       "      <td>20617</td>\n",
       "      <td>20617</td>\n",
       "      <td>20617</td>\n",
       "    </tr>\n",
       "    <tr>\n",
       "      <th>unique</th>\n",
       "      <td>8671</td>\n",
       "      <td>20617</td>\n",
       "      <td>1</td>\n",
       "      <td>6</td>\n",
       "    </tr>\n",
       "    <tr>\n",
       "      <th>top</th>\n",
       "      <td>17/04/2012 15:20</td>\n",
       "      <td>a0aec7bd9ba400f2955dd01ee187169a315a200d222150...</td>\n",
       "      <td>Iguana Lovers Monthly</td>\n",
       "      <td>Active</td>\n",
       "    </tr>\n",
       "    <tr>\n",
       "      <th>freq</th>\n",
       "      <td>8587</td>\n",
       "      <td>1</td>\n",
       "      <td>20617</td>\n",
       "      <td>13054</td>\n",
       "    </tr>\n",
       "  </tbody>\n",
       "</table>\n",
       "</div>"
      ],
      "text/plain": [
       "         DateAddedToList                                       SubscriberID  \\\n",
       "count              20617                                              20617   \n",
       "unique              8671                                              20617   \n",
       "top     17/04/2012 15:20  a0aec7bd9ba400f2955dd01ee187169a315a200d222150...   \n",
       "freq                8587                                                  1   \n",
       "\n",
       "                       ListID CurrentStatus  \n",
       "count                   20617         20617  \n",
       "unique                      1             6  \n",
       "top     Iguana Lovers Monthly        Active  \n",
       "freq                    20617         13054  "
      ]
     },
     "execution_count": 17,
     "metadata": {},
     "output_type": "execute_result"
    }
   ],
   "source": [
    "data[data['ListID']=='Iguana Lovers Monthly'].describe()"
   ]
  },
  {
   "cell_type": "code",
   "execution_count": 169,
   "metadata": {
    "collapsed": true
   },
   "outputs": [],
   "source": [
    "Iguana=data[data['ListID']=='Iguana Lovers Monthly']"
   ]
  },
  {
   "cell_type": "code",
   "execution_count": 170,
   "metadata": {
    "collapsed": false
   },
   "outputs": [
    {
     "data": {
      "text/plain": [
       "<matplotlib.axes._subplots.AxesSubplot at 0x124bd5390>"
      ]
     },
     "execution_count": 170,
     "metadata": {},
     "output_type": "execute_result"
    },
    {
     "data": {
      "image/png": "[encoded data removed]",
      "text/plain": [
       "<matplotlib.figure.Figure at 0x121fed390>"
      ]
     },
     "metadata": {},
     "output_type": "display_data"
    }
   ],
   "source": [
    "Iguana.groupby(['year','CurrentStatus']).size().unstack().plot(kind='bar',figsize=(10,6))"
   ]
  },
  {
   "cell_type": "code",
   "execution_count": 18,
   "metadata": {
    "collapsed": false
   },
   "outputs": [
    {
     "data": {
      "text/html": [
       "<div>\n",
       "<table border=\"1\" class=\"dataframe\">\n",
       "  <thead>\n",
       "    <tr style=\"text-align: right;\">\n",
       "      <th></th>\n",
       "      <th>DateAddedToList</th>\n",
       "      <th>SubscriberID</th>\n",
       "      <th>ListID</th>\n",
       "      <th>CurrentStatus</th>\n",
       "    </tr>\n",
       "  </thead>\n",
       "  <tbody>\n",
       "    <tr>\n",
       "      <th>count</th>\n",
       "      <td>131</td>\n",
       "      <td>131</td>\n",
       "      <td>131</td>\n",
       "      <td>131</td>\n",
       "    </tr>\n",
       "    <tr>\n",
       "      <th>unique</th>\n",
       "      <td>41</td>\n",
       "      <td>131</td>\n",
       "      <td>1</td>\n",
       "      <td>4</td>\n",
       "    </tr>\n",
       "    <tr>\n",
       "      <th>top</th>\n",
       "      <td>10/03/2015 14:23</td>\n",
       "      <td>81674731bd3dc56e55b56fb2a45673768c58eb43a4e981...</td>\n",
       "      <td>Jalopeno Recipe of the Week</td>\n",
       "      <td>Active</td>\n",
       "    </tr>\n",
       "    <tr>\n",
       "      <th>freq</th>\n",
       "      <td>89</td>\n",
       "      <td>1</td>\n",
       "      <td>131</td>\n",
       "      <td>117</td>\n",
       "    </tr>\n",
       "  </tbody>\n",
       "</table>\n",
       "</div>"
      ],
      "text/plain": [
       "         DateAddedToList                                       SubscriberID  \\\n",
       "count                131                                                131   \n",
       "unique                41                                                131   \n",
       "top     10/03/2015 14:23  81674731bd3dc56e55b56fb2a45673768c58eb43a4e981...   \n",
       "freq                  89                                                  1   \n",
       "\n",
       "                             ListID CurrentStatus  \n",
       "count                           131           131  \n",
       "unique                            1             4  \n",
       "top     Jalopeno Recipe of the Week        Active  \n",
       "freq                            131           117  "
      ]
     },
     "execution_count": 18,
     "metadata": {},
     "output_type": "execute_result"
    }
   ],
   "source": [
    "data[data['ListID']=='Jalopeno Recipe of the Week'].describe()"
   ]
  },
  {
   "cell_type": "code",
   "execution_count": 171,
   "metadata": {
    "collapsed": true
   },
   "outputs": [],
   "source": [
    "Jalopeno=data[data['ListID']=='Jalopeno Recipe of the Week']"
   ]
  },
  {
   "cell_type": "code",
   "execution_count": 172,
   "metadata": {
    "collapsed": false
   },
   "outputs": [
    {
     "data": {
      "text/plain": [
       "<matplotlib.axes._subplots.AxesSubplot at 0x121d9b090>"
      ]
     },
     "execution_count": 172,
     "metadata": {},
     "output_type": "execute_result"
    },
    {
     "data": {
      "image/png": "[encoded data removed]",
      "text/plain": [
       "<matplotlib.figure.Figure at 0x122cabfd0>"
      ]
     },
     "metadata": {},
     "output_type": "display_data"
    }
   ],
   "source": [
    "Jalopeno.groupby(['year','CurrentStatus']).size().unstack().plot(kind='bar',figsize=(10,6))"
   ]
  },
  {
   "cell_type": "code",
   "execution_count": 19,
   "metadata": {
    "collapsed": false
   },
   "outputs": [
    {
     "data": {
      "text/html": [
       "<div>\n",
       "<table border=\"1\" class=\"dataframe\">\n",
       "  <thead>\n",
       "    <tr style=\"text-align: right;\">\n",
       "      <th></th>\n",
       "      <th>DateAddedToList</th>\n",
       "      <th>SubscriberID</th>\n",
       "      <th>ListID</th>\n",
       "      <th>CurrentStatus</th>\n",
       "    </tr>\n",
       "  </thead>\n",
       "  <tbody>\n",
       "    <tr>\n",
       "      <th>count</th>\n",
       "      <td>1498</td>\n",
       "      <td>1498</td>\n",
       "      <td>1498</td>\n",
       "      <td>1498</td>\n",
       "    </tr>\n",
       "    <tr>\n",
       "      <th>unique</th>\n",
       "      <td>787</td>\n",
       "      <td>1498</td>\n",
       "      <td>1</td>\n",
       "      <td>4</td>\n",
       "    </tr>\n",
       "    <tr>\n",
       "      <th>top</th>\n",
       "      <td>29/07/2013 15:14</td>\n",
       "      <td>5a7d274b20c4e1570361d0ad9e17e84b86332f4bc516ff...</td>\n",
       "      <td>Kyoto Siteseeing</td>\n",
       "      <td>Active</td>\n",
       "    </tr>\n",
       "    <tr>\n",
       "      <th>freq</th>\n",
       "      <td>494</td>\n",
       "      <td>1</td>\n",
       "      <td>1498</td>\n",
       "      <td>1095</td>\n",
       "    </tr>\n",
       "  </tbody>\n",
       "</table>\n",
       "</div>"
      ],
      "text/plain": [
       "         DateAddedToList                                       SubscriberID  \\\n",
       "count               1498                                               1498   \n",
       "unique               787                                               1498   \n",
       "top     29/07/2013 15:14  5a7d274b20c4e1570361d0ad9e17e84b86332f4bc516ff...   \n",
       "freq                 494                                                  1   \n",
       "\n",
       "                  ListID CurrentStatus  \n",
       "count               1498          1498  \n",
       "unique                 1             4  \n",
       "top     Kyoto Siteseeing        Active  \n",
       "freq                1498          1095  "
      ]
     },
     "execution_count": 19,
     "metadata": {},
     "output_type": "execute_result"
    }
   ],
   "source": [
    "data[data['ListID']=='Kyoto Siteseeing'].describe()"
   ]
  },
  {
   "cell_type": "code",
   "execution_count": 173,
   "metadata": {
    "collapsed": true
   },
   "outputs": [],
   "source": [
    "Kyoto=data[data['ListID']=='Kyoto Siteseeing']"
   ]
  },
  {
   "cell_type": "code",
   "execution_count": 174,
   "metadata": {
    "collapsed": false
   },
   "outputs": [
    {
     "data": {
      "text/plain": [
       "<matplotlib.axes._subplots.AxesSubplot at 0x124c60b50>"
      ]
     },
     "execution_count": 174,
     "metadata": {},
     "output_type": "execute_result"
    },
    {
     "data": {
      "image/png": "[encoded data removed]",
      "text/plain": [
       "<matplotlib.figure.Figure at 0x124c437d0>"
      ]
     },
     "metadata": {},
     "output_type": "display_data"
    }
   ],
   "source": [
    "Kyoto.groupby(['year','CurrentStatus']).size().unstack().plot(kind='bar',figsize=(10,6))"
   ]
  },
  {
   "cell_type": "code",
   "execution_count": 20,
   "metadata": {
    "collapsed": false
   },
   "outputs": [
    {
     "data": {
      "text/html": [
       "<div>\n",
       "<table border=\"1\" class=\"dataframe\">\n",
       "  <thead>\n",
       "    <tr style=\"text-align: right;\">\n",
       "      <th></th>\n",
       "      <th>DateAddedToList</th>\n",
       "      <th>SubscriberID</th>\n",
       "      <th>ListID</th>\n",
       "      <th>CurrentStatus</th>\n",
       "    </tr>\n",
       "  </thead>\n",
       "  <tbody>\n",
       "    <tr>\n",
       "      <th>count</th>\n",
       "      <td>3255</td>\n",
       "      <td>3255</td>\n",
       "      <td>3255</td>\n",
       "      <td>3255</td>\n",
       "    </tr>\n",
       "    <tr>\n",
       "      <th>unique</th>\n",
       "      <td>1779</td>\n",
       "      <td>3255</td>\n",
       "      <td>1</td>\n",
       "      <td>5</td>\n",
       "    </tr>\n",
       "    <tr>\n",
       "      <th>top</th>\n",
       "      <td>15/08/2014 11:20</td>\n",
       "      <td>8c14783dc917df1418ccae87d4c616f72eb972065fe533...</td>\n",
       "      <td>Llama Keepers</td>\n",
       "      <td>Active</td>\n",
       "    </tr>\n",
       "    <tr>\n",
       "      <th>freq</th>\n",
       "      <td>906</td>\n",
       "      <td>1</td>\n",
       "      <td>3255</td>\n",
       "      <td>1721</td>\n",
       "    </tr>\n",
       "  </tbody>\n",
       "</table>\n",
       "</div>"
      ],
      "text/plain": [
       "         DateAddedToList                                       SubscriberID  \\\n",
       "count               3255                                               3255   \n",
       "unique              1779                                               3255   \n",
       "top     15/08/2014 11:20  8c14783dc917df1418ccae87d4c616f72eb972065fe533...   \n",
       "freq                 906                                                  1   \n",
       "\n",
       "               ListID CurrentStatus  \n",
       "count            3255          3255  \n",
       "unique              1             5  \n",
       "top     Llama Keepers        Active  \n",
       "freq             3255          1721  "
      ]
     },
     "execution_count": 20,
     "metadata": {},
     "output_type": "execute_result"
    }
   ],
   "source": [
    "data[data['ListID']=='Llama Keepers'].describe()"
   ]
  },
  {
   "cell_type": "code",
   "execution_count": 178,
   "metadata": {
    "collapsed": true
   },
   "outputs": [],
   "source": [
    "Llama=data[data['ListID']=='Llama Keepers']"
   ]
  },
  {
   "cell_type": "code",
   "execution_count": 179,
   "metadata": {
    "collapsed": false
   },
   "outputs": [
    {
     "data": {
      "text/plain": [
       "<matplotlib.axes._subplots.AxesSubplot at 0x1252be550>"
      ]
     },
     "execution_count": 179,
     "metadata": {},
     "output_type": "execute_result"
    },
    {
     "data": {
      "image/png": "[encoded data removed]",
      "text/plain": [
       "<matplotlib.figure.Figure at 0x124c43550>"
      ]
     },
     "metadata": {},
     "output_type": "display_data"
    }
   ],
   "source": [
    "Llama.groupby(['year','CurrentStatus']).size().unstack().plot(kind='bar',figsize=(10,6))"
   ]
  },
  {
   "cell_type": "code",
   "execution_count": 21,
   "metadata": {
    "collapsed": false
   },
   "outputs": [
    {
     "data": {
      "text/html": [
       "<div>\n",
       "<table border=\"1\" class=\"dataframe\">\n",
       "  <thead>\n",
       "    <tr style=\"text-align: right;\">\n",
       "      <th></th>\n",
       "      <th>DateAddedToList</th>\n",
       "      <th>SubscriberID</th>\n",
       "      <th>ListID</th>\n",
       "      <th>CurrentStatus</th>\n",
       "    </tr>\n",
       "  </thead>\n",
       "  <tbody>\n",
       "    <tr>\n",
       "      <th>count</th>\n",
       "      <td>19505</td>\n",
       "      <td>19505</td>\n",
       "      <td>19505</td>\n",
       "      <td>19505</td>\n",
       "    </tr>\n",
       "    <tr>\n",
       "      <th>unique</th>\n",
       "      <td>6601</td>\n",
       "      <td>19505</td>\n",
       "      <td>1</td>\n",
       "      <td>6</td>\n",
       "    </tr>\n",
       "    <tr>\n",
       "      <th>top</th>\n",
       "      <td>7/09/2015 14:16</td>\n",
       "      <td>3b226179923caeef8e237400e7495f7a3e15f19e3a63a3...</td>\n",
       "      <td>Monkey Madness</td>\n",
       "      <td>Active</td>\n",
       "    </tr>\n",
       "    <tr>\n",
       "      <th>freq</th>\n",
       "      <td>4438</td>\n",
       "      <td>1</td>\n",
       "      <td>19505</td>\n",
       "      <td>13561</td>\n",
       "    </tr>\n",
       "  </tbody>\n",
       "</table>\n",
       "</div>"
      ],
      "text/plain": [
       "        DateAddedToList                                       SubscriberID  \\\n",
       "count             19505                                              19505   \n",
       "unique             6601                                              19505   \n",
       "top     7/09/2015 14:16  3b226179923caeef8e237400e7495f7a3e15f19e3a63a3...   \n",
       "freq               4438                                                  1   \n",
       "\n",
       "                ListID CurrentStatus  \n",
       "count            19505         19505  \n",
       "unique               1             6  \n",
       "top     Monkey Madness        Active  \n",
       "freq             19505         13561  "
      ]
     },
     "execution_count": 21,
     "metadata": {},
     "output_type": "execute_result"
    }
   ],
   "source": [
    "data[data['ListID']=='Monkey Madness'].describe()"
   ]
  },
  {
   "cell_type": "code",
   "execution_count": 180,
   "metadata": {
    "collapsed": true
   },
   "outputs": [],
   "source": [
    "Monkey=data[data['ListID']=='Monkey Madness']"
   ]
  },
  {
   "cell_type": "code",
   "execution_count": 181,
   "metadata": {
    "collapsed": false
   },
   "outputs": [
    {
     "data": {
      "text/plain": [
       "<matplotlib.axes._subplots.AxesSubplot at 0x1252baf50>"
      ]
     },
     "execution_count": 181,
     "metadata": {},
     "output_type": "execute_result"
    },
    {
     "data": {
      "image/png": "[encoded data removed]",
      "text/plain": [
       "<matplotlib.figure.Figure at 0x12554fad0>"
      ]
     },
     "metadata": {},
     "output_type": "display_data"
    }
   ],
   "source": [
    "Monkey.groupby(['year','CurrentStatus']).size().unstack().plot(kind='bar',figsize=(10,6))"
   ]
  },
  {
   "cell_type": "code",
   "execution_count": 22,
   "metadata": {
    "collapsed": false
   },
   "outputs": [
    {
     "data": {
      "text/html": [
       "<div>\n",
       "<table border=\"1\" class=\"dataframe\">\n",
       "  <thead>\n",
       "    <tr style=\"text-align: right;\">\n",
       "      <th></th>\n",
       "      <th>DateAddedToList</th>\n",
       "      <th>SubscriberID</th>\n",
       "      <th>ListID</th>\n",
       "      <th>CurrentStatus</th>\n",
       "    </tr>\n",
       "  </thead>\n",
       "  <tbody>\n",
       "    <tr>\n",
       "      <th>count</th>\n",
       "      <td>7189</td>\n",
       "      <td>7189</td>\n",
       "      <td>7189</td>\n",
       "      <td>7189</td>\n",
       "    </tr>\n",
       "    <tr>\n",
       "      <th>unique</th>\n",
       "      <td>1085</td>\n",
       "      <td>7189</td>\n",
       "      <td>1</td>\n",
       "      <td>5</td>\n",
       "    </tr>\n",
       "    <tr>\n",
       "      <th>top</th>\n",
       "      <td>7/12/2012 13:23</td>\n",
       "      <td>0670d809431fa142cce0cc8d9b6118dd816167e5c5f85f...</td>\n",
       "      <td>Nautical Novels</td>\n",
       "      <td>Deleted</td>\n",
       "    </tr>\n",
       "    <tr>\n",
       "      <th>freq</th>\n",
       "      <td>2954</td>\n",
       "      <td>1</td>\n",
       "      <td>7189</td>\n",
       "      <td>3843</td>\n",
       "    </tr>\n",
       "  </tbody>\n",
       "</table>\n",
       "</div>"
      ],
      "text/plain": [
       "        DateAddedToList                                       SubscriberID  \\\n",
       "count              7189                                               7189   \n",
       "unique             1085                                               7189   \n",
       "top     7/12/2012 13:23  0670d809431fa142cce0cc8d9b6118dd816167e5c5f85f...   \n",
       "freq               2954                                                  1   \n",
       "\n",
       "                 ListID CurrentStatus  \n",
       "count              7189          7189  \n",
       "unique                1             5  \n",
       "top     Nautical Novels       Deleted  \n",
       "freq               7189          3843  "
      ]
     },
     "execution_count": 22,
     "metadata": {},
     "output_type": "execute_result"
    }
   ],
   "source": [
    "data[data['ListID']=='Nautical Novels'].describe()"
   ]
  },
  {
   "cell_type": "code",
   "execution_count": 182,
   "metadata": {
    "collapsed": true
   },
   "outputs": [],
   "source": [
    "Nautical=data[data['ListID']=='Nautical Novels']"
   ]
  },
  {
   "cell_type": "code",
   "execution_count": 183,
   "metadata": {
    "collapsed": false
   },
   "outputs": [
    {
     "data": {
      "text/plain": [
       "<matplotlib.axes._subplots.AxesSubplot at 0x1267dcd10>"
      ]
     },
     "execution_count": 183,
     "metadata": {},
     "output_type": "execute_result"
    },
    {
     "data": {
      "image/png": "[encoded data removed]",
      "text/plain": [
       "<matplotlib.figure.Figure at 0x12682add0>"
      ]
     },
     "metadata": {},
     "output_type": "display_data"
    }
   ],
   "source": [
    "Nautical.groupby(['year','CurrentStatus']).size().unstack().plot(kind='bar',figsize=(10,6))"
   ]
  },
  {
   "cell_type": "code",
   "execution_count": 23,
   "metadata": {
    "collapsed": false
   },
   "outputs": [
    {
     "data": {
      "text/html": [
       "<div>\n",
       "<table border=\"1\" class=\"dataframe\">\n",
       "  <thead>\n",
       "    <tr style=\"text-align: right;\">\n",
       "      <th></th>\n",
       "      <th>DateAddedToList</th>\n",
       "      <th>SubscriberID</th>\n",
       "      <th>ListID</th>\n",
       "      <th>CurrentStatus</th>\n",
       "    </tr>\n",
       "  </thead>\n",
       "  <tbody>\n",
       "    <tr>\n",
       "      <th>count</th>\n",
       "      <td>968</td>\n",
       "      <td>968</td>\n",
       "      <td>968</td>\n",
       "      <td>968</td>\n",
       "    </tr>\n",
       "    <tr>\n",
       "      <th>unique</th>\n",
       "      <td>919</td>\n",
       "      <td>968</td>\n",
       "      <td>1</td>\n",
       "      <td>4</td>\n",
       "    </tr>\n",
       "    <tr>\n",
       "      <th>top</th>\n",
       "      <td>27/11/2015 0:20</td>\n",
       "      <td>9edcb2f1d6ec3e36be5bccc5947f850255117cbce85033...</td>\n",
       "      <td>Obscure Fact of the Day</td>\n",
       "      <td>Unconfirmed</td>\n",
       "    </tr>\n",
       "    <tr>\n",
       "      <th>freq</th>\n",
       "      <td>3</td>\n",
       "      <td>1</td>\n",
       "      <td>968</td>\n",
       "      <td>807</td>\n",
       "    </tr>\n",
       "  </tbody>\n",
       "</table>\n",
       "</div>"
      ],
      "text/plain": [
       "        DateAddedToList                                       SubscriberID  \\\n",
       "count               968                                                968   \n",
       "unique              919                                                968   \n",
       "top     27/11/2015 0:20  9edcb2f1d6ec3e36be5bccc5947f850255117cbce85033...   \n",
       "freq                  3                                                  1   \n",
       "\n",
       "                         ListID CurrentStatus  \n",
       "count                       968           968  \n",
       "unique                        1             4  \n",
       "top     Obscure Fact of the Day   Unconfirmed  \n",
       "freq                        968           807  "
      ]
     },
     "execution_count": 23,
     "metadata": {},
     "output_type": "execute_result"
    }
   ],
   "source": [
    "data[data['ListID']=='Obscure Fact of the Day'].describe()"
   ]
  },
  {
   "cell_type": "code",
   "execution_count": 185,
   "metadata": {
    "collapsed": false
   },
   "outputs": [],
   "source": [
    "Obscure=data[data['ListID']=='Obscure Fact of the Day']"
   ]
  },
  {
   "cell_type": "code",
   "execution_count": 186,
   "metadata": {
    "collapsed": false
   },
   "outputs": [
    {
     "data": {
      "text/plain": [
       "<matplotlib.axes._subplots.AxesSubplot at 0x12674b190>"
      ]
     },
     "execution_count": 186,
     "metadata": {},
     "output_type": "execute_result"
    },
    {
     "data": {
      "image/png": "[encoded data removed]",
      "text/plain": [
       "<matplotlib.figure.Figure at 0x12532a1d0>"
      ]
     },
     "metadata": {},
     "output_type": "display_data"
    }
   ],
   "source": [
    "Obscure.groupby(['year','CurrentStatus']).size().unstack().plot(kind='bar',figsize=(10,6))"
   ]
  },
  {
   "cell_type": "code",
   "execution_count": 24,
   "metadata": {
    "collapsed": false
   },
   "outputs": [
    {
     "data": {
      "text/html": [
       "<div>\n",
       "<table border=\"1\" class=\"dataframe\">\n",
       "  <thead>\n",
       "    <tr style=\"text-align: right;\">\n",
       "      <th></th>\n",
       "      <th>DateAddedToList</th>\n",
       "      <th>SubscriberID</th>\n",
       "      <th>ListID</th>\n",
       "      <th>CurrentStatus</th>\n",
       "    </tr>\n",
       "  </thead>\n",
       "  <tbody>\n",
       "    <tr>\n",
       "      <th>count</th>\n",
       "      <td>999</td>\n",
       "      <td>999</td>\n",
       "      <td>999</td>\n",
       "      <td>999</td>\n",
       "    </tr>\n",
       "    <tr>\n",
       "      <th>unique</th>\n",
       "      <td>949</td>\n",
       "      <td>999</td>\n",
       "      <td>1</td>\n",
       "      <td>4</td>\n",
       "    </tr>\n",
       "    <tr>\n",
       "      <th>top</th>\n",
       "      <td>23/11/2015 3:49</td>\n",
       "      <td>3ccdaff592577bdd597ecd8d95bf4b5ae167061a30a5b2...</td>\n",
       "      <td>Planets and Stars</td>\n",
       "      <td>Unconfirmed</td>\n",
       "    </tr>\n",
       "    <tr>\n",
       "      <th>freq</th>\n",
       "      <td>3</td>\n",
       "      <td>1</td>\n",
       "      <td>999</td>\n",
       "      <td>797</td>\n",
       "    </tr>\n",
       "  </tbody>\n",
       "</table>\n",
       "</div>"
      ],
      "text/plain": [
       "        DateAddedToList                                       SubscriberID  \\\n",
       "count               999                                                999   \n",
       "unique              949                                                999   \n",
       "top     23/11/2015 3:49  3ccdaff592577bdd597ecd8d95bf4b5ae167061a30a5b2...   \n",
       "freq                  3                                                  1   \n",
       "\n",
       "                   ListID CurrentStatus  \n",
       "count                 999           999  \n",
       "unique                  1             4  \n",
       "top     Planets and Stars   Unconfirmed  \n",
       "freq                  999           797  "
      ]
     },
     "execution_count": 24,
     "metadata": {},
     "output_type": "execute_result"
    }
   ],
   "source": [
    "data[data['ListID']=='Planets and Stars'].describe()"
   ]
  },
  {
   "cell_type": "code",
   "execution_count": 188,
   "metadata": {
    "collapsed": false
   },
   "outputs": [],
   "source": [
    "Planets=data[data['ListID']=='Planets and Stars']"
   ]
  },
  {
   "cell_type": "code",
   "execution_count": 189,
   "metadata": {
    "collapsed": false
   },
   "outputs": [
    {
     "data": {
      "text/plain": [
       "<matplotlib.axes._subplots.AxesSubplot at 0x122c725d0>"
      ]
     },
     "execution_count": 189,
     "metadata": {},
     "output_type": "execute_result"
    },
    {
     "data": {
      "image/png": "[encoded data removed]",
      "text/plain": [
       "<matplotlib.figure.Figure at 0x1230a40d0>"
      ]
     },
     "metadata": {},
     "output_type": "display_data"
    }
   ],
   "source": [
    "Planets.groupby(['year','CurrentStatus']).size().unstack().plot(kind='bar',figsize=(10,6))"
   ]
  },
  {
   "cell_type": "code",
   "execution_count": 25,
   "metadata": {
    "collapsed": false
   },
   "outputs": [
    {
     "data": {
      "text/html": [
       "<div>\n",
       "<table border=\"1\" class=\"dataframe\">\n",
       "  <thead>\n",
       "    <tr style=\"text-align: right;\">\n",
       "      <th></th>\n",
       "      <th>DateAddedToList</th>\n",
       "      <th>SubscriberID</th>\n",
       "      <th>ListID</th>\n",
       "      <th>CurrentStatus</th>\n",
       "    </tr>\n",
       "  </thead>\n",
       "  <tbody>\n",
       "    <tr>\n",
       "      <th>count</th>\n",
       "      <td>4556</td>\n",
       "      <td>4556</td>\n",
       "      <td>4556</td>\n",
       "      <td>4556</td>\n",
       "    </tr>\n",
       "    <tr>\n",
       "      <th>unique</th>\n",
       "      <td>1128</td>\n",
       "      <td>4556</td>\n",
       "      <td>1</td>\n",
       "      <td>4</td>\n",
       "    </tr>\n",
       "    <tr>\n",
       "      <th>top</th>\n",
       "      <td>12/06/2015 15:42</td>\n",
       "      <td>516bdea80423c20c21938c6bebc8f3671763892cee5aab...</td>\n",
       "      <td>Quesadilla Recipies</td>\n",
       "      <td>Active</td>\n",
       "    </tr>\n",
       "    <tr>\n",
       "      <th>freq</th>\n",
       "      <td>1428</td>\n",
       "      <td>1</td>\n",
       "      <td>4556</td>\n",
       "      <td>3494</td>\n",
       "    </tr>\n",
       "  </tbody>\n",
       "</table>\n",
       "</div>"
      ],
      "text/plain": [
       "         DateAddedToList                                       SubscriberID  \\\n",
       "count               4556                                               4556   \n",
       "unique              1128                                               4556   \n",
       "top     12/06/2015 15:42  516bdea80423c20c21938c6bebc8f3671763892cee5aab...   \n",
       "freq                1428                                                  1   \n",
       "\n",
       "                     ListID CurrentStatus  \n",
       "count                  4556          4556  \n",
       "unique                    1             4  \n",
       "top     Quesadilla Recipies        Active  \n",
       "freq                   4556          3494  "
      ]
     },
     "execution_count": 25,
     "metadata": {},
     "output_type": "execute_result"
    }
   ],
   "source": [
    "data[data['ListID']=='Quesadilla Recipies'].describe()"
   ]
  },
  {
   "cell_type": "code",
   "execution_count": 191,
   "metadata": {
    "collapsed": true
   },
   "outputs": [],
   "source": [
    "Quesadilla=data[data['ListID']=='Quesadilla Recipies']"
   ]
  },
  {
   "cell_type": "code",
   "execution_count": 192,
   "metadata": {
    "collapsed": false
   },
   "outputs": [
    {
     "data": {
      "text/plain": [
       "<matplotlib.axes._subplots.AxesSubplot at 0x1273330d0>"
      ]
     },
     "execution_count": 192,
     "metadata": {},
     "output_type": "execute_result"
    },
    {
     "data": {
      "image/png": "[encoded data removed]",
      "text/plain": [
       "<matplotlib.figure.Figure at 0x1270fb810>"
      ]
     },
     "metadata": {},
     "output_type": "display_data"
    }
   ],
   "source": [
    "Quesadilla.groupby(['year','CurrentStatus']).size().unstack().plot(kind='bar',figsize=(10,6))"
   ]
  },
  {
   "cell_type": "code",
   "execution_count": 26,
   "metadata": {
    "collapsed": false
   },
   "outputs": [
    {
     "data": {
      "text/html": [
       "<div>\n",
       "<table border=\"1\" class=\"dataframe\">\n",
       "  <thead>\n",
       "    <tr style=\"text-align: right;\">\n",
       "      <th></th>\n",
       "      <th>DateAddedToList</th>\n",
       "      <th>SubscriberID</th>\n",
       "      <th>ListID</th>\n",
       "      <th>CurrentStatus</th>\n",
       "    </tr>\n",
       "  </thead>\n",
       "  <tbody>\n",
       "    <tr>\n",
       "      <th>count</th>\n",
       "      <td>771</td>\n",
       "      <td>771</td>\n",
       "      <td>771</td>\n",
       "      <td>771</td>\n",
       "    </tr>\n",
       "    <tr>\n",
       "      <th>unique</th>\n",
       "      <td>524</td>\n",
       "      <td>771</td>\n",
       "      <td>1</td>\n",
       "      <td>5</td>\n",
       "    </tr>\n",
       "    <tr>\n",
       "      <th>top</th>\n",
       "      <td>5/08/2015 16:03</td>\n",
       "      <td>6675c66fb0848460330a6fbacad901f328f5d3a0895a0f...</td>\n",
       "      <td>Radical Reading</td>\n",
       "      <td>Active</td>\n",
       "    </tr>\n",
       "    <tr>\n",
       "      <th>freq</th>\n",
       "      <td>216</td>\n",
       "      <td>1</td>\n",
       "      <td>771</td>\n",
       "      <td>384</td>\n",
       "    </tr>\n",
       "  </tbody>\n",
       "</table>\n",
       "</div>"
      ],
      "text/plain": [
       "        DateAddedToList                                       SubscriberID  \\\n",
       "count               771                                                771   \n",
       "unique              524                                                771   \n",
       "top     5/08/2015 16:03  6675c66fb0848460330a6fbacad901f328f5d3a0895a0f...   \n",
       "freq                216                                                  1   \n",
       "\n",
       "                 ListID CurrentStatus  \n",
       "count               771           771  \n",
       "unique                1             5  \n",
       "top     Radical Reading        Active  \n",
       "freq                771           384  "
      ]
     },
     "execution_count": 26,
     "metadata": {},
     "output_type": "execute_result"
    }
   ],
   "source": [
    "data[data['ListID']=='Radical Reading'].describe()"
   ]
  },
  {
   "cell_type": "code",
   "execution_count": 193,
   "metadata": {
    "collapsed": true
   },
   "outputs": [],
   "source": [
    "Radical=data[data['ListID']=='Radical Reading']"
   ]
  },
  {
   "cell_type": "code",
   "execution_count": 194,
   "metadata": {
    "collapsed": false
   },
   "outputs": [
    {
     "data": {
      "text/plain": [
       "<matplotlib.axes._subplots.AxesSubplot at 0x127440950>"
      ]
     },
     "execution_count": 194,
     "metadata": {},
     "output_type": "execute_result"
    },
    {
     "data": {
      "image/png": "[encoded data removed]",
      "text/plain": [
       "<matplotlib.figure.Figure at 0x1270e6890>"
      ]
     },
     "metadata": {},
     "output_type": "display_data"
    }
   ],
   "source": [
    "Radical.groupby(['year','CurrentStatus']).size().unstack().plot(kind='bar',figsize=(10,6))"
   ]
  },
  {
   "cell_type": "code",
   "execution_count": 27,
   "metadata": {
    "collapsed": false
   },
   "outputs": [
    {
     "data": {
      "text/html": [
       "<div>\n",
       "<table border=\"1\" class=\"dataframe\">\n",
       "  <thead>\n",
       "    <tr style=\"text-align: right;\">\n",
       "      <th></th>\n",
       "      <th>DateAddedToList</th>\n",
       "      <th>SubscriberID</th>\n",
       "      <th>ListID</th>\n",
       "      <th>CurrentStatus</th>\n",
       "    </tr>\n",
       "  </thead>\n",
       "  <tbody>\n",
       "    <tr>\n",
       "      <th>count</th>\n",
       "      <td>2348</td>\n",
       "      <td>2348</td>\n",
       "      <td>2348</td>\n",
       "      <td>2348</td>\n",
       "    </tr>\n",
       "    <tr>\n",
       "      <th>unique</th>\n",
       "      <td>2078</td>\n",
       "      <td>2348</td>\n",
       "      <td>1</td>\n",
       "      <td>6</td>\n",
       "    </tr>\n",
       "    <tr>\n",
       "      <th>top</th>\n",
       "      <td>17/04/2012 15:25</td>\n",
       "      <td>915d5d779a5178c3b4ec4f209a54eaf3186a0d8008a9d8...</td>\n",
       "      <td>Shopping Bargin of the Day</td>\n",
       "      <td>Active</td>\n",
       "    </tr>\n",
       "    <tr>\n",
       "      <th>freq</th>\n",
       "      <td>263</td>\n",
       "      <td>1</td>\n",
       "      <td>2348</td>\n",
       "      <td>1810</td>\n",
       "    </tr>\n",
       "  </tbody>\n",
       "</table>\n",
       "</div>"
      ],
      "text/plain": [
       "         DateAddedToList                                       SubscriberID  \\\n",
       "count               2348                                               2348   \n",
       "unique              2078                                               2348   \n",
       "top     17/04/2012 15:25  915d5d779a5178c3b4ec4f209a54eaf3186a0d8008a9d8...   \n",
       "freq                 263                                                  1   \n",
       "\n",
       "                            ListID CurrentStatus  \n",
       "count                         2348          2348  \n",
       "unique                           1             6  \n",
       "top     Shopping Bargin of the Day        Active  \n",
       "freq                          2348          1810  "
      ]
     },
     "execution_count": 27,
     "metadata": {},
     "output_type": "execute_result"
    }
   ],
   "source": [
    "data[data['ListID']=='Shopping Bargin of the Day'].describe()"
   ]
  },
  {
   "cell_type": "code",
   "execution_count": 195,
   "metadata": {
    "collapsed": true
   },
   "outputs": [],
   "source": [
    "Shopping=data[data['ListID']=='Shopping Bargin of the Day']"
   ]
  },
  {
   "cell_type": "code",
   "execution_count": 196,
   "metadata": {
    "collapsed": false
   },
   "outputs": [
    {
     "data": {
      "text/plain": [
       "<matplotlib.axes._subplots.AxesSubplot at 0x127883310>"
      ]
     },
     "execution_count": 196,
     "metadata": {},
     "output_type": "execute_result"
    },
    {
     "data": {
      "image/png": "[encoded data removed]",
      "text/plain": [
       "<matplotlib.figure.Figure at 0x12732bfd0>"
      ]
     },
     "metadata": {},
     "output_type": "display_data"
    }
   ],
   "source": [
    "Shopping.groupby(['year','CurrentStatus']).size().unstack().plot(kind='bar',figsize=(10,6))"
   ]
  },
  {
   "cell_type": "code",
   "execution_count": 28,
   "metadata": {
    "collapsed": false
   },
   "outputs": [
    {
     "data": {
      "text/html": [
       "<div>\n",
       "<table border=\"1\" class=\"dataframe\">\n",
       "  <thead>\n",
       "    <tr style=\"text-align: right;\">\n",
       "      <th></th>\n",
       "      <th>DateAddedToList</th>\n",
       "      <th>SubscriberID</th>\n",
       "      <th>ListID</th>\n",
       "      <th>CurrentStatus</th>\n",
       "    </tr>\n",
       "  </thead>\n",
       "  <tbody>\n",
       "    <tr>\n",
       "      <th>count</th>\n",
       "      <td>20470</td>\n",
       "      <td>20470</td>\n",
       "      <td>20470</td>\n",
       "      <td>20470</td>\n",
       "    </tr>\n",
       "    <tr>\n",
       "      <th>unique</th>\n",
       "      <td>5545</td>\n",
       "      <td>20470</td>\n",
       "      <td>1</td>\n",
       "      <td>6</td>\n",
       "    </tr>\n",
       "    <tr>\n",
       "      <th>top</th>\n",
       "      <td>18/04/2012 10:50</td>\n",
       "      <td>bcdb670e97d8a2f7fe4bc9c4cd11b2d37f7a798452fd76...</td>\n",
       "      <td>Train Trips in the Ukraine</td>\n",
       "      <td>Active</td>\n",
       "    </tr>\n",
       "    <tr>\n",
       "      <th>freq</th>\n",
       "      <td>8868</td>\n",
       "      <td>1</td>\n",
       "      <td>20470</td>\n",
       "      <td>12368</td>\n",
       "    </tr>\n",
       "  </tbody>\n",
       "</table>\n",
       "</div>"
      ],
      "text/plain": [
       "         DateAddedToList                                       SubscriberID  \\\n",
       "count              20470                                              20470   \n",
       "unique              5545                                              20470   \n",
       "top     18/04/2012 10:50  bcdb670e97d8a2f7fe4bc9c4cd11b2d37f7a798452fd76...   \n",
       "freq                8868                                                  1   \n",
       "\n",
       "                            ListID CurrentStatus  \n",
       "count                        20470         20470  \n",
       "unique                           1             6  \n",
       "top     Train Trips in the Ukraine        Active  \n",
       "freq                         20470         12368  "
      ]
     },
     "execution_count": 28,
     "metadata": {},
     "output_type": "execute_result"
    }
   ],
   "source": [
    "data[data['ListID']=='Train Trips in the Ukraine'].describe()"
   ]
  },
  {
   "cell_type": "code",
   "execution_count": 197,
   "metadata": {
    "collapsed": true
   },
   "outputs": [],
   "source": [
    "Train=data[data['ListID']=='Train Trips in the Ukraine']"
   ]
  },
  {
   "cell_type": "code",
   "execution_count": 198,
   "metadata": {
    "collapsed": false
   },
   "outputs": [
    {
     "data": {
      "text/plain": [
       "<matplotlib.axes._subplots.AxesSubplot at 0x12789f590>"
      ]
     },
     "execution_count": 198,
     "metadata": {},
     "output_type": "execute_result"
    },
    {
     "data": {
      "image/png": "[encoded data removed]",
      "text/plain": [
       "<matplotlib.figure.Figure at 0x12746a790>"
      ]
     },
     "metadata": {},
     "output_type": "display_data"
    }
   ],
   "source": [
    "Train.groupby(['year','CurrentStatus']).size().unstack().plot(kind='bar',figsize=(10,6))"
   ]
  },
  {
   "cell_type": "code",
   "execution_count": 29,
   "metadata": {
    "collapsed": false
   },
   "outputs": [
    {
     "data": {
      "text/html": [
       "<div>\n",
       "<table border=\"1\" class=\"dataframe\">\n",
       "  <thead>\n",
       "    <tr style=\"text-align: right;\">\n",
       "      <th></th>\n",
       "      <th>DateAddedToList</th>\n",
       "      <th>SubscriberID</th>\n",
       "      <th>ListID</th>\n",
       "      <th>CurrentStatus</th>\n",
       "    </tr>\n",
       "  </thead>\n",
       "  <tbody>\n",
       "    <tr>\n",
       "      <th>count</th>\n",
       "      <td>20180</td>\n",
       "      <td>20180</td>\n",
       "      <td>20180</td>\n",
       "      <td>20180</td>\n",
       "    </tr>\n",
       "    <tr>\n",
       "      <th>unique</th>\n",
       "      <td>8022</td>\n",
       "      <td>20179</td>\n",
       "      <td>1</td>\n",
       "      <td>6</td>\n",
       "    </tr>\n",
       "    <tr>\n",
       "      <th>top</th>\n",
       "      <td>9/08/2012 10:58</td>\n",
       "      <td>93f26c4dbdd1d52f91c23d5b3be8484936d5f78490f3f0...</td>\n",
       "      <td>Underground Art</td>\n",
       "      <td>Active</td>\n",
       "    </tr>\n",
       "    <tr>\n",
       "      <th>freq</th>\n",
       "      <td>7887</td>\n",
       "      <td>2</td>\n",
       "      <td>20180</td>\n",
       "      <td>14113</td>\n",
       "    </tr>\n",
       "  </tbody>\n",
       "</table>\n",
       "</div>"
      ],
      "text/plain": [
       "        DateAddedToList                                       SubscriberID  \\\n",
       "count             20180                                              20180   \n",
       "unique             8022                                              20179   \n",
       "top     9/08/2012 10:58  93f26c4dbdd1d52f91c23d5b3be8484936d5f78490f3f0...   \n",
       "freq               7887                                                  2   \n",
       "\n",
       "                 ListID CurrentStatus  \n",
       "count             20180         20180  \n",
       "unique                1             6  \n",
       "top     Underground Art        Active  \n",
       "freq              20180         14113  "
      ]
     },
     "execution_count": 29,
     "metadata": {},
     "output_type": "execute_result"
    }
   ],
   "source": [
    "data[data['ListID']=='Underground Art'].describe()"
   ]
  },
  {
   "cell_type": "code",
   "execution_count": 199,
   "metadata": {
    "collapsed": true
   },
   "outputs": [],
   "source": [
    "Underground=data[data['ListID']=='Underground Art']"
   ]
  },
  {
   "cell_type": "code",
   "execution_count": 200,
   "metadata": {
    "collapsed": false
   },
   "outputs": [
    {
     "data": {
      "text/plain": [
       "<matplotlib.axes._subplots.AxesSubplot at 0x127aed3d0>"
      ]
     },
     "execution_count": 200,
     "metadata": {},
     "output_type": "execute_result"
    },
    {
     "data": {
      "image/png": "[encoded data removed]",
      "text/plain": [
       "<matplotlib.figure.Figure at 0x126f42b90>"
      ]
     },
     "metadata": {},
     "output_type": "display_data"
    }
   ],
   "source": [
    "Underground.groupby(['year','CurrentStatus']).size().unstack().plot(kind='bar',figsize=(10,6))"
   ]
  },
  {
   "cell_type": "code",
   "execution_count": 30,
   "metadata": {
    "collapsed": false
   },
   "outputs": [
    {
     "data": {
      "text/html": [
       "<div>\n",
       "<table border=\"1\" class=\"dataframe\">\n",
       "  <thead>\n",
       "    <tr style=\"text-align: right;\">\n",
       "      <th></th>\n",
       "      <th>DateAddedToList</th>\n",
       "      <th>SubscriberID</th>\n",
       "      <th>ListID</th>\n",
       "      <th>CurrentStatus</th>\n",
       "    </tr>\n",
       "  </thead>\n",
       "  <tbody>\n",
       "    <tr>\n",
       "      <th>count</th>\n",
       "      <td>858</td>\n",
       "      <td>858</td>\n",
       "      <td>858</td>\n",
       "      <td>858</td>\n",
       "    </tr>\n",
       "    <tr>\n",
       "      <th>unique</th>\n",
       "      <td>58</td>\n",
       "      <td>858</td>\n",
       "      <td>1</td>\n",
       "      <td>3</td>\n",
       "    </tr>\n",
       "    <tr>\n",
       "      <th>top</th>\n",
       "      <td>15/08/2012 9:48</td>\n",
       "      <td>2261dd43ad8252e9f2982bebf929f8d1662870ff70951c...</td>\n",
       "      <td>Very Funky Finds</td>\n",
       "      <td>Active</td>\n",
       "    </tr>\n",
       "    <tr>\n",
       "      <th>freq</th>\n",
       "      <td>364</td>\n",
       "      <td>1</td>\n",
       "      <td>858</td>\n",
       "      <td>735</td>\n",
       "    </tr>\n",
       "  </tbody>\n",
       "</table>\n",
       "</div>"
      ],
      "text/plain": [
       "        DateAddedToList                                       SubscriberID  \\\n",
       "count               858                                                858   \n",
       "unique               58                                                858   \n",
       "top     15/08/2012 9:48  2261dd43ad8252e9f2982bebf929f8d1662870ff70951c...   \n",
       "freq                364                                                  1   \n",
       "\n",
       "                  ListID CurrentStatus  \n",
       "count                858           858  \n",
       "unique                 1             3  \n",
       "top     Very Funky Finds        Active  \n",
       "freq                 858           735  "
      ]
     },
     "execution_count": 30,
     "metadata": {},
     "output_type": "execute_result"
    }
   ],
   "source": [
    "data[data['ListID']=='Very Funky Finds'].describe()"
   ]
  },
  {
   "cell_type": "code",
   "execution_count": 201,
   "metadata": {
    "collapsed": true
   },
   "outputs": [],
   "source": [
    "Very_Funny=data[data['ListID']=='Very Funky Finds']"
   ]
  },
  {
   "cell_type": "code",
   "execution_count": 202,
   "metadata": {
    "collapsed": false
   },
   "outputs": [
    {
     "data": {
      "text/plain": [
       "<matplotlib.axes._subplots.AxesSubplot at 0x12806e090>"
      ]
     },
     "execution_count": 202,
     "metadata": {},
     "output_type": "execute_result"
    },
    {
     "data": {
      "image/png": "[encoded data removed]",
      "text/plain": [
       "<matplotlib.figure.Figure at 0x127f89550>"
      ]
     },
     "metadata": {},
     "output_type": "display_data"
    }
   ],
   "source": [
    "Very_Funny.groupby(['year','CurrentStatus']).size().unstack().plot(kind='bar',figsize=(10,6))"
   ]
  },
  {
   "cell_type": "code",
   "execution_count": 31,
   "metadata": {
    "collapsed": false
   },
   "outputs": [
    {
     "data": {
      "text/html": [
       "<div>\n",
       "<table border=\"1\" class=\"dataframe\">\n",
       "  <thead>\n",
       "    <tr style=\"text-align: right;\">\n",
       "      <th></th>\n",
       "      <th>DateAddedToList</th>\n",
       "      <th>SubscriberID</th>\n",
       "      <th>ListID</th>\n",
       "      <th>CurrentStatus</th>\n",
       "    </tr>\n",
       "  </thead>\n",
       "  <tbody>\n",
       "    <tr>\n",
       "      <th>count</th>\n",
       "      <td>5089</td>\n",
       "      <td>5089</td>\n",
       "      <td>5089</td>\n",
       "      <td>5089</td>\n",
       "    </tr>\n",
       "    <tr>\n",
       "      <th>unique</th>\n",
       "      <td>1393</td>\n",
       "      <td>5089</td>\n",
       "      <td>1</td>\n",
       "      <td>4</td>\n",
       "    </tr>\n",
       "    <tr>\n",
       "      <th>top</th>\n",
       "      <td>11/02/2014 16:35</td>\n",
       "      <td>b3eaf7b528a67d8d4f325d4efb05ba43ce00c29a576c9a...</td>\n",
       "      <td>Xtraordinarly GR8</td>\n",
       "      <td>Active</td>\n",
       "    </tr>\n",
       "    <tr>\n",
       "      <th>freq</th>\n",
       "      <td>1374</td>\n",
       "      <td>1</td>\n",
       "      <td>5089</td>\n",
       "      <td>3649</td>\n",
       "    </tr>\n",
       "  </tbody>\n",
       "</table>\n",
       "</div>"
      ],
      "text/plain": [
       "         DateAddedToList                                       SubscriberID  \\\n",
       "count               5089                                               5089   \n",
       "unique              1393                                               5089   \n",
       "top     11/02/2014 16:35  b3eaf7b528a67d8d4f325d4efb05ba43ce00c29a576c9a...   \n",
       "freq                1374                                                  1   \n",
       "\n",
       "                   ListID CurrentStatus  \n",
       "count                5089          5089  \n",
       "unique                  1             4  \n",
       "top     Xtraordinarly GR8        Active  \n",
       "freq                 5089          3649  "
      ]
     },
     "execution_count": 31,
     "metadata": {},
     "output_type": "execute_result"
    }
   ],
   "source": [
    "data[data['ListID']=='Xtraordinarly GR8'].describe()"
   ]
  },
  {
   "cell_type": "code",
   "execution_count": 203,
   "metadata": {
    "collapsed": true
   },
   "outputs": [],
   "source": [
    "Xtraordinarly=data[data['ListID']=='Xtraordinarly GR8']"
   ]
  },
  {
   "cell_type": "code",
   "execution_count": 204,
   "metadata": {
    "collapsed": false
   },
   "outputs": [
    {
     "data": {
      "text/plain": [
       "<matplotlib.axes._subplots.AxesSubplot at 0x12730b590>"
      ]
     },
     "execution_count": 204,
     "metadata": {},
     "output_type": "execute_result"
    },
    {
     "data": {
      "image/png": "[encoded data removed]",
      "text/plain": [
       "<matplotlib.figure.Figure at 0x128066b50>"
      ]
     },
     "metadata": {},
     "output_type": "display_data"
    }
   ],
   "source": [
    "Xtraordinarly.groupby(['year','CurrentStatus']).size().unstack().plot(kind='bar',figsize=(10,6))"
   ]
  },
  {
   "cell_type": "code",
   "execution_count": 32,
   "metadata": {
    "collapsed": false
   },
   "outputs": [
    {
     "data": {
      "text/html": [
       "<div>\n",
       "<table border=\"1\" class=\"dataframe\">\n",
       "  <thead>\n",
       "    <tr style=\"text-align: right;\">\n",
       "      <th></th>\n",
       "      <th>DateAddedToList</th>\n",
       "      <th>SubscriberID</th>\n",
       "      <th>ListID</th>\n",
       "      <th>CurrentStatus</th>\n",
       "    </tr>\n",
       "  </thead>\n",
       "  <tbody>\n",
       "    <tr>\n",
       "      <th>count</th>\n",
       "      <td>34007</td>\n",
       "      <td>34007</td>\n",
       "      <td>34007</td>\n",
       "      <td>34007</td>\n",
       "    </tr>\n",
       "    <tr>\n",
       "      <th>unique</th>\n",
       "      <td>14628</td>\n",
       "      <td>34007</td>\n",
       "      <td>1</td>\n",
       "      <td>1</td>\n",
       "    </tr>\n",
       "    <tr>\n",
       "      <th>top</th>\n",
       "      <td>22/08/2012 11:44</td>\n",
       "      <td>3d396996c4bc6b88a099b6cddadd688ca3ae99b10199e5...</td>\n",
       "      <td>Your Health Tips</td>\n",
       "      <td>Active</td>\n",
       "    </tr>\n",
       "    <tr>\n",
       "      <th>freq</th>\n",
       "      <td>18755</td>\n",
       "      <td>1</td>\n",
       "      <td>34007</td>\n",
       "      <td>34007</td>\n",
       "    </tr>\n",
       "  </tbody>\n",
       "</table>\n",
       "</div>"
      ],
      "text/plain": [
       "         DateAddedToList                                       SubscriberID  \\\n",
       "count              34007                                              34007   \n",
       "unique             14628                                              34007   \n",
       "top     22/08/2012 11:44  3d396996c4bc6b88a099b6cddadd688ca3ae99b10199e5...   \n",
       "freq               18755                                                  1   \n",
       "\n",
       "                  ListID CurrentStatus  \n",
       "count              34007         34007  \n",
       "unique                 1             1  \n",
       "top     Your Health Tips        Active  \n",
       "freq               34007         34007  "
      ]
     },
     "execution_count": 32,
     "metadata": {},
     "output_type": "execute_result"
    }
   ],
   "source": [
    "data[data['ListID']=='Your Health Tips'].describe()"
   ]
  },
  {
   "cell_type": "code",
   "execution_count": 205,
   "metadata": {
    "collapsed": true
   },
   "outputs": [],
   "source": [
    "Your_Health=data[data['ListID']=='Your Health Tips']"
   ]
  },
  {
   "cell_type": "code",
   "execution_count": 206,
   "metadata": {
    "collapsed": false
   },
   "outputs": [
    {
     "data": {
      "text/plain": [
       "<matplotlib.axes._subplots.AxesSubplot at 0x128263190>"
      ]
     },
     "execution_count": 206,
     "metadata": {},
     "output_type": "execute_result"
    },
    {
     "data": {
      "image/png": "[encoded data removed]",
      "text/plain": [
       "<matplotlib.figure.Figure at 0x127d4bc50>"
      ]
     },
     "metadata": {},
     "output_type": "display_data"
    }
   ],
   "source": [
    "Your_Health.groupby(['year','CurrentStatus']).size().unstack().plot(kind='bar',figsize=(10,6))"
   ]
  },
  {
   "cell_type": "markdown",
   "metadata": {},
   "source": [
    "- These are descriptive statastics of every list .The table shows the count,number of unique values, top (most common value),frequency (most common value’s frequency)\n",
    "\n",
    "- The bar plots shows which years the list is in active/Bounced/Unconfirmed/Suppressed/Deleted\n",
    "\n",
    "- \"Your Health Tips \" is the list where people are very much interested. "
   ]
  },
  {
   "cell_type": "code",
   "execution_count": null,
   "metadata": {
    "collapsed": true
   },
   "outputs": [],
   "source": []
  }
 ],
 "metadata": {
  "kernelspec": {
   "display_name": "Python 2",
   "language": "python",
   "name": "python2"
  },
  "language_info": {
   "codemirror_mode": {
    "name": "ipython",
    "version": 2
   },
   "file_extension": ".py",
   "mimetype": "text/x-python",
   "name": "python",
   "nbconvert_exporter": "python",
   "pygments_lexer": "ipython2",
   "version": "2.7.13"
  }
 },
 "nbformat": 4,
 "nbformat_minor": 2
}
