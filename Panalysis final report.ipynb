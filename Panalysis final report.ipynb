{
 "cells": [
  {
   "cell_type": "markdown",
   "metadata": {},
   "source": [
    "# Panalysis Business Analytics Case Study"
   ]
  },
  {
   "cell_type": "markdown",
   "metadata": {},
   "source": [
    "**Author** Indraja Bandla\n"
   ]
  },
  {
   "cell_type": "markdown",
   "metadata": {},
   "source": [
    "**Background**\n",
    "A client of Panalysis is a publisher who has been running email marketing newsletters for a number of\n",
    "years. These newsletters contain 24 different email lists and a subscriber may join one or more of these\n",
    "lists.\n",
    "The client sends email to these lists with different frequencies throughout the year (weekly, monthly, daily).\n",
    "They use Campaign Monitor https://www.campaignmonitor.com/ to manage the subscribers and distribute\n",
    "the email newsletters.\n",
    "Our client has requested that Panalysis provide a report that addresses the following:\n",
    "1. We have customers/personas that interact with us across a range of different services at\n",
    "different times.\n",
    "2. The audience is not exclusive to one website / email newsletter. By fragmenting our channels,\n",
    "we lose the opportunity to build a collective audience and get to know them better and\n",
    "potentially serve more targeted content in the future.\n",
    "3. Fragmenting our newsletters is inefficient, and results in an inconsistent experience for our\n",
    "customers.\n",
    "4. The client needs to know which lists are most frequently subscribed to and whether to\n",
    "decommission some newsletters and how they might potentially combine content.\n",
    "\n",
    "**Task**\n",
    "Please prepare a short report and presentation.\n",
    "Use the data in the csv (see link below) to develop your methodology, and prepare a presentation on your\n",
    "results to address the following:\n",
    "1. How would you address the client's comments and questions above?\n",
    "2. Provide descriptive statistics for each list.\n",
    "3. How many subscribers are subscribed to more than one list?\n",
    "4. Where a subscriber has joined more than one newsletter which combinations of lists are\n",
    "subscribed to. E.g. if a subscriber has joined Artists in Australia and Balkan News and another\n",
    "has joined Artists in Australia, Dog Walkers Weekly these can be represented as pairs A,B and\n",
    "A,D.\n",
    "5. Which lists have the greatest differences in the people who subscribe to them? E.g. People who\n",
    "subscribe to Balkan News very rarely subscribe to Artists in Australia.\n",
    "6. Which lists have the highest unsubscription rate.\n",
    "\n",
    "**Please also address the following:**\n",
    "\n",
    "● Describe how would you obtain the information from Campaign Monitor. See\n",
    "https://help.campaignmonitor.com/support\n",
    "\n",
    "● Describe the methodology you would use to tackle the questions above\n",
    "\n",
    "The data can be downloaded from:\n",
    "https://drive.google.com/file/d/0ByKnfbezExf4YmcydjVvaGNyMXc/view?usp=sharing\n",
    "\n",
    "You are free to choose whichever tools you prefer to use to answer the questions above.\n",
    "\n",
    "**About the Data**\n",
    "The data is in a CSV file format.\n"
   ]
  },
  {
   "cell_type": "markdown",
   "metadata": {},
   "source": [
    "| Field  | Description | Example Values         \n",
    "| :- |-------------: | :-:\n",
    "|DateAddedToList| The date that the subscriber was added to the list.Note that this may not be when they actually subscribed but rather when the owner of the list loaded this data into the software application | 10/04/2014 15:44\n",
    "| SubscriberID | The unique identifier for this subscriber. Note that a subscriber can be subscribed to one or more lists. | ad0d6c7da2659ceda6c14c73ab3d5565e7427371a3ea4c0a6f9ab733cb47cb31\n",
    "|ListID |The name of the mailing list.Note that these are fictional names.|Artists in Australia,Balkan News ,Columbian Comedy ,Dog Walkers, Weekly...\n",
    "|CurrentStatus|The current status of the user.Note only subscribers marked as Active will receive email from the list.|Active, Bounced ,Unconfirmed ,Suppressed ,Deleted\n"
   ]
  },
  {
   "cell_type": "markdown",
   "metadata": {},
   "source": [
    "- [EDA](#common)\n",
    "- [Data Visualisation](#vis)\n",
    "- [How to address client comments](#client)\n",
    "- [Descriptive Statstics](#stats)\n",
    "- [Unsubscription lists for entire dataset](#unsub)\n",
    "- [How many subscribers are subscribed to more than one list?](#more>1)\n",
    "- [Where a subscriber has joined more than one newsletter ](#A,D)\n",
    "- [Which lists have the greatest differences in the people who subscribe to them](#combi)"
   ]
  },
  {
   "cell_type": "markdown",
   "metadata": {},
   "source": [
    "<a id='common'></a> \n",
    "# Exploratory Data Analysis "
   ]
  },
  {
   "cell_type": "markdown",
   "metadata": {},
   "source": [
    "I downloaded the csv file and noticed the following:\n",
    "- It is the data of four years(2012,2013,2014,2015)\n",
    "- It has around 189,155 rows with four columns as mentioned\n"
   ]
  },
  {
   "cell_type": "code",
   "execution_count": 3,
   "metadata": {
    "collapsed": false
   },
   "outputs": [],
   "source": [
    "# import packages\n",
    "import numpy as np\n",
    "import pandas as pd\n",
    "import matplotlib\n",
    "%matplotlib inline"
   ]
  },
  {
   "cell_type": "code",
   "execution_count": 4,
   "metadata": {
    "collapsed": false
   },
   "outputs": [],
   "source": [
    "data=pd.read_csv('./datasets/subscribers_list.csv')"
   ]
  },
  {
   "cell_type": "code",
   "execution_count": 5,
   "metadata": {
    "collapsed": true
   },
   "outputs": [],
   "source": [
    "data['year'] = pd.DatetimeIndex(data['DateAddedToList']).year"
   ]
  },
  {
   "cell_type": "code",
   "execution_count": 6,
   "metadata": {
    "collapsed": true
   },
   "outputs": [],
   "source": [
    "data['month'] = pd.DatetimeIndex(data['DateAddedToList']).month\n",
    "data['day'] = pd.DatetimeIndex(data['DateAddedToList']).day"
   ]
  },
  {
   "cell_type": "code",
   "execution_count": 162,
   "metadata": {
    "collapsed": true
   },
   "outputs": [],
   "source": [
    "# I splitted DateAddedToList into year,month,day for analysis"
   ]
  },
  {
   "cell_type": "code",
   "execution_count": 161,
   "metadata": {
    "collapsed": false
   },
   "outputs": [
    {
     "data": {
      "text/html": [
       "<div>\n",
       "<table border=\"1\" class=\"dataframe\">\n",
       "  <thead>\n",
       "    <tr style=\"text-align: right;\">\n",
       "      <th></th>\n",
       "      <th>DateAddedToList</th>\n",
       "      <th>SubscriberID</th>\n",
       "      <th>ListID</th>\n",
       "      <th>CurrentStatus</th>\n",
       "      <th>year</th>\n",
       "      <th>month</th>\n",
       "      <th>day</th>\n",
       "    </tr>\n",
       "  </thead>\n",
       "  <tbody>\n",
       "    <tr>\n",
       "      <th>0</th>\n",
       "      <td>10/04/2014 15:44</td>\n",
       "      <td>69bd8f10a8f512f11cc5e15b1fb177a46395c93f6553fc...</td>\n",
       "      <td>Artists in Australia</td>\n",
       "      <td>Unsubscribed</td>\n",
       "      <td>2014</td>\n",
       "      <td>10</td>\n",
       "      <td>4</td>\n",
       "    </tr>\n",
       "    <tr>\n",
       "      <th>1</th>\n",
       "      <td>10/04/2014 9:40</td>\n",
       "      <td>5e8ce7d6a2fed0e786f994a4deb38ca9eb971120a86e4a...</td>\n",
       "      <td>Artists in Australia</td>\n",
       "      <td>Active</td>\n",
       "      <td>2014</td>\n",
       "      <td>10</td>\n",
       "      <td>4</td>\n",
       "    </tr>\n",
       "    <tr>\n",
       "      <th>2</th>\n",
       "      <td>10/04/2014 9:40</td>\n",
       "      <td>62725b4d21f794ce2ac455817fddf2b21ac0709ac02c62...</td>\n",
       "      <td>Artists in Australia</td>\n",
       "      <td>Active</td>\n",
       "      <td>2014</td>\n",
       "      <td>10</td>\n",
       "      <td>4</td>\n",
       "    </tr>\n",
       "    <tr>\n",
       "      <th>3</th>\n",
       "      <td>10/04/2014 9:40</td>\n",
       "      <td>e75180a3da23c7910810f1ca8998a9180f1897149adba8...</td>\n",
       "      <td>Artists in Australia</td>\n",
       "      <td>Active</td>\n",
       "      <td>2014</td>\n",
       "      <td>10</td>\n",
       "      <td>4</td>\n",
       "    </tr>\n",
       "    <tr>\n",
       "      <th>4</th>\n",
       "      <td>10/04/2014 9:40</td>\n",
       "      <td>cbccb0b090324a44026c6135f122b2ca26ce08214ed4ed...</td>\n",
       "      <td>Artists in Australia</td>\n",
       "      <td>Active</td>\n",
       "      <td>2014</td>\n",
       "      <td>10</td>\n",
       "      <td>4</td>\n",
       "    </tr>\n",
       "  </tbody>\n",
       "</table>\n",
       "</div>"
      ],
      "text/plain": [
       "    DateAddedToList                                       SubscriberID  \\\n",
       "0  10/04/2014 15:44  69bd8f10a8f512f11cc5e15b1fb177a46395c93f6553fc...   \n",
       "1   10/04/2014 9:40  5e8ce7d6a2fed0e786f994a4deb38ca9eb971120a86e4a...   \n",
       "2   10/04/2014 9:40  62725b4d21f794ce2ac455817fddf2b21ac0709ac02c62...   \n",
       "3   10/04/2014 9:40  e75180a3da23c7910810f1ca8998a9180f1897149adba8...   \n",
       "4   10/04/2014 9:40  cbccb0b090324a44026c6135f122b2ca26ce08214ed4ed...   \n",
       "\n",
       "                 ListID CurrentStatus  year  month  day  \n",
       "0  Artists in Australia  Unsubscribed  2014     10    4  \n",
       "1  Artists in Australia        Active  2014     10    4  \n",
       "2  Artists in Australia        Active  2014     10    4  \n",
       "3  Artists in Australia        Active  2014     10    4  \n",
       "4  Artists in Australia        Active  2014     10    4  "
      ]
     },
     "execution_count": 161,
     "metadata": {},
     "output_type": "execute_result"
    }
   ],
   "source": [
    "data.head()"
   ]
  },
  {
   "cell_type": "code",
   "execution_count": 163,
   "metadata": {
    "collapsed": false
   },
   "outputs": [
    {
     "data": {
      "text/plain": [
       "(189155, 7)"
      ]
     },
     "execution_count": 163,
     "metadata": {},
     "output_type": "execute_result"
    }
   ],
   "source": [
    "data.shape"
   ]
  },
  {
   "cell_type": "code",
   "execution_count": 164,
   "metadata": {
    "collapsed": false
   },
   "outputs": [
    {
     "data": {
      "text/plain": [
       "108858"
      ]
     },
     "execution_count": 164,
     "metadata": {},
     "output_type": "execute_result"
    }
   ],
   "source": [
    "len(data['SubscriberID'].unique())\n"
   ]
  },
  {
   "cell_type": "markdown",
   "metadata": {},
   "source": [
    "108858 unique Subscriber id's are present in the dataset"
   ]
  },
  {
   "cell_type": "code",
   "execution_count": 6,
   "metadata": {
    "collapsed": false
   },
   "outputs": [
    {
     "data": {
      "text/plain": [
       "DateAddedToList    0\n",
       "SubscriberID       0\n",
       "ListID             0\n",
       "CurrentStatus      0\n",
       "dtype: int64"
      ]
     },
     "execution_count": 6,
     "metadata": {},
     "output_type": "execute_result"
    }
   ],
   "source": [
    "data.isnull().sum() # data has no null values"
   ]
  },
  {
   "cell_type": "code",
   "execution_count": 165,
   "metadata": {
    "collapsed": false
   },
   "outputs": [
    {
     "data": {
      "text/plain": [
       "DateAddedToList    object\n",
       "SubscriberID       object\n",
       "ListID             object\n",
       "CurrentStatus      object\n",
       "year                int32\n",
       "month               int32\n",
       "day                 int32\n",
       "dtype: object"
      ]
     },
     "execution_count": 165,
     "metadata": {},
     "output_type": "execute_result"
    }
   ],
   "source": [
    "data.dtypes #datatypes"
   ]
  },
  {
   "cell_type": "code",
   "execution_count": 166,
   "metadata": {
    "collapsed": false
   },
   "outputs": [
    {
     "name": "stdout",
     "output_type": "stream",
     "text": [
      "<class 'pandas.core.frame.DataFrame'>\n",
      "RangeIndex: 189155 entries, 0 to 189154\n",
      "Data columns (total 7 columns):\n",
      "DateAddedToList    189155 non-null object\n",
      "SubscriberID       189155 non-null object\n",
      "ListID             189155 non-null object\n",
      "CurrentStatus      189155 non-null object\n",
      "year               189155 non-null int32\n",
      "month              189155 non-null int32\n",
      "day                189155 non-null int32\n",
      "dtypes: int32(3), object(4)\n",
      "memory usage: 7.9+ MB\n"
     ]
    }
   ],
   "source": [
    "data.info() "
   ]
  },
  {
   "cell_type": "markdown",
   "metadata": {},
   "source": [
    "<a id='vis'></a>\n",
    "# Data Visualisation"
   ]
  },
  {
   "cell_type": "markdown",
   "metadata": {
    "collapsed": true
   },
   "source": [
    "The beauty of Tableau dashboard can not be viewed on Github.Unfortunately, the Ipython notebook needs to de downloaded.you can view it my tableau public here https://public.tableau.com/shared/9PQHX35TT?:display_count=yes"
   ]
  },
  {
   "cell_type": "code",
   "execution_count": 19,
   "metadata": {
    "collapsed": false
   },
   "outputs": [
    {
     "data": {
      "text/html": [
       "<div class='tableauPlaceholder' id='viz1498263985429' style='position: relative'><noscript><a href='#'><img alt='EDA ' src='https:&#47;&#47;public.tableau.com&#47;static&#47;images&#47;9P&#47;9PQHX35TT&#47;1_rss.png' style='border: none' /></a></noscript><object class='tableauViz'  style='display:none;'><param name='host_url' value='https%3A%2F%2Fpublic.tableau.com%2F' /> <param name='path' value='shared&#47;9PQHX35TT' /> <param name='toolbar' value='yes' /><param name='static_image' value='https:&#47;&#47;public.tableau.com&#47;static&#47;images&#47;9P&#47;9PQHX35TT&#47;1.png' /> <param name='animate_transition' value='yes' /><param name='display_static_image' value='yes' /><param name='display_spinner' value='yes' /><param name='display_overlay' value='yes' /><param name='display_count' value='yes' /><param name='filter' value='publish=yes' /></object></div>                <script type='text/javascript'>                    var divElement = document.getElementById('viz1498263985429');                    var vizElement = divElement.getElementsByTagName('object')[0];                    vizElement.style.width='1020px';vizElement.style.height='1033px';                    var scriptElement = document.createElement('script');                    scriptElement.src = 'https://public.tableau.com/javascripts/api/viz_v1.js';                    vizElement.parentNode.insertBefore(scriptElement, vizElement);                </script>"
      ],
      "text/plain": [
       "<IPython.core.display.HTML object>"
      ]
     },
     "metadata": {},
     "output_type": "display_data"
    }
   ],
   "source": [
    "%%HTML\n",
    "<div class='tableauPlaceholder' id='viz1498263985429' style='position: relative'><noscript><a href='#'><img alt='EDA ' src='https:&#47;&#47;public.tableau.com&#47;static&#47;images&#47;9P&#47;9PQHX35TT&#47;1_rss.png' style='border: none' /></a></noscript><object class='tableauViz'  style='display:none;'><param name='host_url' value='https%3A%2F%2Fpublic.tableau.com%2F' /> <param name='path' value='shared&#47;9PQHX35TT' /> <param name='toolbar' value='yes' /><param name='static_image' value='https:&#47;&#47;public.tableau.com&#47;static&#47;images&#47;9P&#47;9PQHX35TT&#47;1.png' /> <param name='animate_transition' value='yes' /><param name='display_static_image' value='yes' /><param name='display_spinner' value='yes' /><param name='display_overlay' value='yes' /><param name='display_count' value='yes' /><param name='filter' value='publish=yes' /></object></div>                <script type='text/javascript'>                    var divElement = document.getElementById('viz1498263985429');                    var vizElement = divElement.getElementsByTagName('object')[0];                    vizElement.style.width='1020px';vizElement.style.height='1033px';                    var scriptElement = document.createElement('script');                    scriptElement.src = 'https://public.tableau.com/javascripts/api/viz_v1.js';                    vizElement.parentNode.insertBefore(scriptElement, vizElement);                </script>"
   ]
  },
  {
   "cell_type": "markdown",
   "metadata": {},
   "source": [
    "<a id='client'></a>\n",
    "# 1. How would you address the client's comments and questions above?\n"
   ]
  },
  {
   "cell_type": "code",
   "execution_count": 270,
   "metadata": {
    "collapsed": false
   },
   "outputs": [
    {
     "data": {
      "text/plain": [
       "array(['10/04/2014 15:44', '10/04/2014 9:40', '10/11/2014 12:30', ...,\n",
       "       '11/12/2015 14:03', '11/12/2015 14:32', '11/12/2015 14:48'], dtype=object)"
      ]
     },
     "execution_count": 270,
     "metadata": {},
     "output_type": "execute_result"
    }
   ],
   "source": [
    "data['DateAddedToList'].unique()"
   ]
  },
  {
   "cell_type": "code",
   "execution_count": 272,
   "metadata": {
    "collapsed": false
   },
   "outputs": [
    {
     "data": {
      "text/plain": [
       "array(['69bd8f10a8f512f11cc5e15b1fb177a46395c93f6553fc695402690c4ef4e1dd',\n",
       "       '5e8ce7d6a2fed0e786f994a4deb38ca9eb971120a86e4a481ed1ff04e4435e93',\n",
       "       '62725b4d21f794ce2ac455817fddf2b21ac0709ac02c6275aa911ec08fb8651d',\n",
       "       ...,\n",
       "       '117f221d1c679fda6fc3bc7faac175e50609ee92101501efc88d6700a14fa69a',\n",
       "       '5bff276dcf7cf3c64742fb4f218ec79dbe4ba650421758d78a32769c9a4f92a9',\n",
       "       '1675a5cf980da3a29255bd2a0a68778b9c8314f39c3082df1dd3759b8689cf42'], dtype=object)"
      ]
     },
     "execution_count": 272,
     "metadata": {},
     "output_type": "execute_result"
    }
   ],
   "source": [
    "data['SubscriberID'].unique()"
   ]
  },
  {
   "cell_type": "code",
   "execution_count": 274,
   "metadata": {
    "collapsed": false
   },
   "outputs": [
    {
     "data": {
      "text/plain": [
       "108858"
      ]
     },
     "execution_count": 274,
     "metadata": {},
     "output_type": "execute_result"
    }
   ],
   "source": [
    "len(data['SubscriberID'].unique())"
   ]
  },
  {
   "cell_type": "code",
   "execution_count": 273,
   "metadata": {
    "collapsed": false
   },
   "outputs": [
    {
     "data": {
      "text/plain": [
       "array(['Artists in Australia', 'Balkan News', 'Columbian Comedy',\n",
       "       'Dog Walkers Weekly', 'Epicurean Delights', 'Fishing with Friends',\n",
       "       'Gardening and Greenery', 'Hobbies for Profit',\n",
       "       'Iguana Lovers Monthly', 'Jalopeno Recipe of the Week',\n",
       "       'Kyoto Siteseeing', 'Llama Keepers', 'Monkey Madness',\n",
       "       'Nautical Novels', 'Obscure Fact of the Day', 'Planets and Stars',\n",
       "       'Quesadilla Recipies', 'Radical Reading',\n",
       "       'Shopping Bargin of the Day', 'Train Trips in the Ukraine',\n",
       "       'Underground Art', 'Very Funky Finds', 'Xtraordinarly GR8',\n",
       "       'Your Health Tips'], dtype=object)"
      ]
     },
     "execution_count": 273,
     "metadata": {},
     "output_type": "execute_result"
    }
   ],
   "source": [
    "data['ListID'].unique()"
   ]
  },
  {
   "cell_type": "markdown",
   "metadata": {},
   "source": [
    "- ** #1. We have customers/personas that interact with us across a range of different services at different times **\n",
    "\n",
    "> This clearly shows that multiple subscribers (108,858 subscribers) are subscribed to 24 different email list in  different years (2012,2013,2014,2015) at different times\n",
    "\n",
    "\n",
    "- ** #2. The audience is not exclusive to one website / email newsletter. By fragmenting our channels, we lose the opportunity to build a collective audience and get to know them better and potentially serve more targeted content in the future **\n",
    "\n",
    "> we have total of 189155 records but only 108,858 unique subscribers to 24 different emails .This clearly shows that each subscribed more than one list.There seems to be many possibilities.\n",
    "\n",
    "\n",
    "- ** #3. Fragmenting our newsletters is inefficient, and results in an inconsistent experience for our customers.**\n",
    "\n",
    "> From analysis amount of people who subscribe to multiple lists decreases as the number of lists grows.\n",
    "\n",
    "\n",
    "\n",
    "- **#4.The client needs to know which lists are most frequently subscribed to and whether to decommission some newsletters and how they might potentially combine content.**\n",
    "\n",
    "> From my EDA through Tableau, It is clear that active subscribers are interested in \" Your Health Tips \" followed by \"Underground Art\" and  \" Madness monkey\" .\n",
    "\n",
    "> \"Jalapeno Receipe of the week\" has the least number of active subscribers(117) which can be decommisioned.\n",
    "\n",
    "> Questions 2,3,4 are analysed in this visualistion \n",
    "- https://public.tableau.com/views/Subscriber_2/Combinations?:embed=y&:display_count=yes"
   ]
  },
  {
   "cell_type": "markdown",
   "metadata": {},
   "source": [
    "<a id='stats'></a>\n",
    "# 2.Provide descriptive statistics for each list "
   ]
  },
  {
   "cell_type": "code",
   "execution_count": 7,
   "metadata": {
    "collapsed": false
   },
   "outputs": [
    {
     "data": {
      "text/html": [
       "<div>\n",
       "<table border=\"1\" class=\"dataframe\">\n",
       "  <thead>\n",
       "    <tr style=\"text-align: right;\">\n",
       "      <th></th>\n",
       "      <th>DateAddedToList</th>\n",
       "      <th>SubscriberID</th>\n",
       "      <th>ListID</th>\n",
       "      <th>CurrentStatus</th>\n",
       "    </tr>\n",
       "  </thead>\n",
       "  <tbody>\n",
       "    <tr>\n",
       "      <th>count</th>\n",
       "      <td>189155</td>\n",
       "      <td>189155</td>\n",
       "      <td>189155</td>\n",
       "      <td>189155</td>\n",
       "    </tr>\n",
       "    <tr>\n",
       "      <th>unique</th>\n",
       "      <td>46547</td>\n",
       "      <td>108858</td>\n",
       "      <td>24</td>\n",
       "      <td>6</td>\n",
       "    </tr>\n",
       "    <tr>\n",
       "      <th>top</th>\n",
       "      <td>22/08/2012 11:44</td>\n",
       "      <td>5c8eef5243e2fe73481509a4d9834f3a706d4503a81241...</td>\n",
       "      <td>Your Health Tips</td>\n",
       "      <td>Active</td>\n",
       "    </tr>\n",
       "    <tr>\n",
       "      <th>freq</th>\n",
       "      <td>18755</td>\n",
       "      <td>19</td>\n",
       "      <td>34007</td>\n",
       "      <td>130623</td>\n",
       "    </tr>\n",
       "  </tbody>\n",
       "</table>\n",
       "</div>"
      ],
      "text/plain": [
       "         DateAddedToList                                       SubscriberID  \\\n",
       "count             189155                                             189155   \n",
       "unique             46547                                             108858   \n",
       "top     22/08/2012 11:44  5c8eef5243e2fe73481509a4d9834f3a706d4503a81241...   \n",
       "freq               18755                                                 19   \n",
       "\n",
       "                  ListID CurrentStatus  \n",
       "count             189155        189155  \n",
       "unique                24             6  \n",
       "top     Your Health Tips        Active  \n",
       "freq               34007        130623  "
      ]
     },
     "execution_count": 7,
     "metadata": {},
     "output_type": "execute_result"
    }
   ],
   "source": [
    "data.describe() # overall descriptive statstics"
   ]
  },
  {
   "cell_type": "code",
   "execution_count": 6,
   "metadata": {
    "collapsed": false
   },
   "outputs": [
    {
     "data": {
      "text/plain": [
       "<matplotlib.axes._subplots.AxesSubplot at 0x10e673050>"
      ]
     },
     "execution_count": 6,
     "metadata": {},
     "output_type": "execute_result"
    },
    {
     "data": {
      "image/png": "[encoded data removed]",
      "text/plain": [
       "<matplotlib.figure.Figure at 0x10498b790>"
      ]
     },
     "metadata": {},
     "output_type": "display_data"
    }
   ],
   "source": [
    "data.groupby(['year','CurrentStatus']).size().unstack().plot(kind='bar',figsize=(10,6))"
   ]
  },
  {
   "cell_type": "markdown",
   "metadata": {},
   "source": [
    "- The descriptive statistics of every list can be viewed here https://github.com/Indu4191/test/blob/master/Panalysis%20descriptive%20statstics.ipynb  or\n",
    "check **\" Panalysis descriptive statistics.ipynb \"** from the same folder\n",
    "\n",
    "- The table shows the count, number of unique values, top (most common value), frequency (most common value’s frequency)\n",
    "- The bar plots show which years the list is in active/Bounced/Unconfirmed/Suppressed/Deleted"
   ]
  },
  {
   "cell_type": "markdown",
   "metadata": {},
   "source": [
    "<a id='unsub'></a>\n",
    "# Unsubscription lists for entire dataset"
   ]
  },
  {
   "cell_type": "code",
   "execution_count": 342,
   "metadata": {
    "collapsed": false
   },
   "outputs": [
    {
     "data": {
      "text/html": [
       "<div>\n",
       "<table border=\"1\" class=\"dataframe\">\n",
       "  <thead>\n",
       "    <tr style=\"text-align: right;\">\n",
       "      <th></th>\n",
       "      <th>Active</th>\n",
       "      <th>Unsubscribed</th>\n",
       "      <th>Rate</th>\n",
       "      <th>list</th>\n",
       "    </tr>\n",
       "  </thead>\n",
       "  <tbody>\n",
       "    <tr>\n",
       "      <th>0</th>\n",
       "      <td>2084</td>\n",
       "      <td>109.0</td>\n",
       "      <td>4.970360</td>\n",
       "      <td>Artists in Australia</td>\n",
       "    </tr>\n",
       "    <tr>\n",
       "      <th>1</th>\n",
       "      <td>1084</td>\n",
       "      <td>46.0</td>\n",
       "      <td>4.070796</td>\n",
       "      <td>Balkan News</td>\n",
       "    </tr>\n",
       "    <tr>\n",
       "      <th>2</th>\n",
       "      <td>1958</td>\n",
       "      <td>8.0</td>\n",
       "      <td>0.406918</td>\n",
       "      <td>Columbian Comedy</td>\n",
       "    </tr>\n",
       "    <tr>\n",
       "      <th>3</th>\n",
       "      <td>10996</td>\n",
       "      <td>743.0</td>\n",
       "      <td>6.329330</td>\n",
       "      <td>Dog Walkers Weekly</td>\n",
       "    </tr>\n",
       "    <tr>\n",
       "      <th>4</th>\n",
       "      <td>6943</td>\n",
       "      <td>673.0</td>\n",
       "      <td>8.836660</td>\n",
       "      <td>Epicurean Delights</td>\n",
       "    </tr>\n",
       "    <tr>\n",
       "      <th>5</th>\n",
       "      <td>1136</td>\n",
       "      <td>23.0</td>\n",
       "      <td>1.984469</td>\n",
       "      <td>Fishing with Friends</td>\n",
       "    </tr>\n",
       "    <tr>\n",
       "      <th>6</th>\n",
       "      <td>3477</td>\n",
       "      <td>1199.0</td>\n",
       "      <td>25.641574</td>\n",
       "      <td>Gardening and Greenery</td>\n",
       "    </tr>\n",
       "    <tr>\n",
       "      <th>7</th>\n",
       "      <td>1752</td>\n",
       "      <td>41.0</td>\n",
       "      <td>2.286670</td>\n",
       "      <td>Hobbies for Profit</td>\n",
       "    </tr>\n",
       "    <tr>\n",
       "      <th>8</th>\n",
       "      <td>13054</td>\n",
       "      <td>2320.0</td>\n",
       "      <td>15.090412</td>\n",
       "      <td>Iguana Lovers Monthly</td>\n",
       "    </tr>\n",
       "    <tr>\n",
       "      <th>9</th>\n",
       "      <td>117</td>\n",
       "      <td>2.0</td>\n",
       "      <td>1.680672</td>\n",
       "      <td>Jalopeno Recipe of the Week</td>\n",
       "    </tr>\n",
       "    <tr>\n",
       "      <th>10</th>\n",
       "      <td>1095</td>\n",
       "      <td>37.0</td>\n",
       "      <td>3.268551</td>\n",
       "      <td>Kyoto Siteseeing</td>\n",
       "    </tr>\n",
       "    <tr>\n",
       "      <th>11</th>\n",
       "      <td>1721</td>\n",
       "      <td>364.0</td>\n",
       "      <td>17.458034</td>\n",
       "      <td>Llama Keepers</td>\n",
       "    </tr>\n",
       "    <tr>\n",
       "      <th>12</th>\n",
       "      <td>13561</td>\n",
       "      <td>2312.0</td>\n",
       "      <td>14.565615</td>\n",
       "      <td>Monkey Madness</td>\n",
       "    </tr>\n",
       "    <tr>\n",
       "      <th>13</th>\n",
       "      <td>765</td>\n",
       "      <td>302.0</td>\n",
       "      <td>28.303655</td>\n",
       "      <td>Nautical Novels</td>\n",
       "    </tr>\n",
       "    <tr>\n",
       "      <th>14</th>\n",
       "      <td>134</td>\n",
       "      <td>25.0</td>\n",
       "      <td>15.723270</td>\n",
       "      <td>Obscure Fact of the Day</td>\n",
       "    </tr>\n",
       "    <tr>\n",
       "      <th>15</th>\n",
       "      <td>186</td>\n",
       "      <td>12.0</td>\n",
       "      <td>6.060606</td>\n",
       "      <td>Planets and Stars</td>\n",
       "    </tr>\n",
       "    <tr>\n",
       "      <th>16</th>\n",
       "      <td>3494</td>\n",
       "      <td>143.0</td>\n",
       "      <td>3.931812</td>\n",
       "      <td>Quesadilla Recipies</td>\n",
       "    </tr>\n",
       "    <tr>\n",
       "      <th>17</th>\n",
       "      <td>384</td>\n",
       "      <td>16.0</td>\n",
       "      <td>4.000000</td>\n",
       "      <td>Radical Reading</td>\n",
       "    </tr>\n",
       "    <tr>\n",
       "      <th>18</th>\n",
       "      <td>1810</td>\n",
       "      <td>37.0</td>\n",
       "      <td>2.003249</td>\n",
       "      <td>Shopping Bargin of the Day</td>\n",
       "    </tr>\n",
       "    <tr>\n",
       "      <th>19</th>\n",
       "      <td>12368</td>\n",
       "      <td>1139.0</td>\n",
       "      <td>8.432665</td>\n",
       "      <td>Train Trips in the Ukraine</td>\n",
       "    </tr>\n",
       "    <tr>\n",
       "      <th>20</th>\n",
       "      <td>14113</td>\n",
       "      <td>1516.0</td>\n",
       "      <td>9.699917</td>\n",
       "      <td>Underground Art</td>\n",
       "    </tr>\n",
       "    <tr>\n",
       "      <th>21</th>\n",
       "      <td>735</td>\n",
       "      <td>18.0</td>\n",
       "      <td>2.390438</td>\n",
       "      <td>Very Funky Finds</td>\n",
       "    </tr>\n",
       "    <tr>\n",
       "      <th>22</th>\n",
       "      <td>3649</td>\n",
       "      <td>319.0</td>\n",
       "      <td>8.039315</td>\n",
       "      <td>Xtraordinarly GR8</td>\n",
       "    </tr>\n",
       "    <tr>\n",
       "      <th>23</th>\n",
       "      <td>34007</td>\n",
       "      <td>NaN</td>\n",
       "      <td>NaN</td>\n",
       "      <td>Your Health Tips</td>\n",
       "    </tr>\n",
       "  </tbody>\n",
       "</table>\n",
       "</div>"
      ],
      "text/plain": [
       "    Active  Unsubscribed       Rate                         list\n",
       "0     2084         109.0   4.970360         Artists in Australia\n",
       "1     1084          46.0   4.070796                  Balkan News\n",
       "2     1958           8.0   0.406918             Columbian Comedy\n",
       "3    10996         743.0   6.329330           Dog Walkers Weekly\n",
       "4     6943         673.0   8.836660           Epicurean Delights\n",
       "5     1136          23.0   1.984469         Fishing with Friends\n",
       "6     3477        1199.0  25.641574       Gardening and Greenery\n",
       "7     1752          41.0   2.286670           Hobbies for Profit\n",
       "8    13054        2320.0  15.090412        Iguana Lovers Monthly\n",
       "9      117           2.0   1.680672  Jalopeno Recipe of the Week\n",
       "10    1095          37.0   3.268551             Kyoto Siteseeing\n",
       "11    1721         364.0  17.458034                Llama Keepers\n",
       "12   13561        2312.0  14.565615               Monkey Madness\n",
       "13     765         302.0  28.303655              Nautical Novels\n",
       "14     134          25.0  15.723270      Obscure Fact of the Day\n",
       "15     186          12.0   6.060606            Planets and Stars\n",
       "16    3494         143.0   3.931812          Quesadilla Recipies\n",
       "17     384          16.0   4.000000              Radical Reading\n",
       "18    1810          37.0   2.003249   Shopping Bargin of the Day\n",
       "19   12368        1139.0   8.432665   Train Trips in the Ukraine\n",
       "20   14113        1516.0   9.699917              Underground Art\n",
       "21     735          18.0   2.390438             Very Funky Finds\n",
       "22    3649         319.0   8.039315            Xtraordinarly GR8\n",
       "23   34007           NaN        NaN             Your Health Tips"
      ]
     },
     "execution_count": 342,
     "metadata": {},
     "output_type": "execute_result"
    }
   ],
   "source": [
    "rate['Rate']= (rate['Unsubscribed']/(rate['Active']+rate['Unsubscribed']))*100\n",
    "\n",
    "rate\n",
    "\n"
   ]
  },
  {
   "cell_type": "code",
   "execution_count": 358,
   "metadata": {
    "collapsed": false
   },
   "outputs": [
    {
     "data": {
      "text/plain": [
       "<matplotlib.axes._subplots.AxesSubplot at 0x134208710>"
      ]
     },
     "execution_count": 358,
     "metadata": {},
     "output_type": "execute_result"
    },
    {
     "data": {
      "image/png": "[encoded data removed]",
      "text/plain": [
       "<matplotlib.figure.Figure at 0x13421e410>"
      ]
     },
     "metadata": {},
     "output_type": "display_data"
    }
   ],
   "source": [
    "rate.plot(x='list',y='Rate',kind='bar',color='purple',figsize=(15,10))"
   ]
  },
  {
   "cell_type": "markdown",
   "metadata": {},
   "source": [
    "The graph clearly shows that **Nautical Novels** has highest unsubscription rate of 28.303655 followed by **Gardening and Greenery** with 25.641574\n",
    "\n",
    "you can view detail analysis here :https://github.com/Indu4191/test/blob/master/highest%20Unsubscription%20rate.ipynb"
   ]
  },
  {
   "cell_type": "markdown",
   "metadata": {},
   "source": [
    "<a id='more>1'></a>\n",
    "# 3. How many subscribers are subscribed to more than one list?"
   ]
  },
  {
   "cell_type": "code",
   "execution_count": 2,
   "metadata": {
    "collapsed": false
   },
   "outputs": [],
   "source": [
    "from collections import Counter\n",
    "count2=Counter(combi_data.SubscriberID)\n",
    "#combi_data is the data of the active subscribers"
   ]
  },
  {
   "cell_type": "code",
   "execution_count": 25,
   "metadata": {
    "collapsed": true
   },
   "outputs": [],
   "source": [
    "d1 = dict((k, v) for k, v in count2.items() if v >= 2)"
   ]
  },
  {
   "cell_type": "code",
   "execution_count": 26,
   "metadata": {
    "collapsed": false
   },
   "outputs": [
    {
     "data": {
      "text/plain": [
       "20956"
      ]
     },
     "execution_count": 26,
     "metadata": {},
     "output_type": "execute_result"
    }
   ],
   "source": [
    "len(d1)"
   ]
  },
  {
   "cell_type": "markdown",
   "metadata": {},
   "source": [
    "out of 108858 unique Subscribers,130623 are the active subscribers.Among active subscribers, 20,956 subscribers subscribed to more than one list"
   ]
  },
  {
   "cell_type": "markdown",
   "metadata": {},
   "source": [
    "<a id='A,D'></a>\n",
    "# 4. Where a subscriber has joined more than one newsletter which combinations of lists are subscribed to. E.g. if a subscriber has joined Artists in Australia and Balkan News and another has joined Artists in Australia, Dog Walkers Weekly these can be represented as pairs A,B and A,D.\n"
   ]
  },
  {
   "cell_type": "code",
   "execution_count": 7,
   "metadata": {
    "collapsed": true
   },
   "outputs": [],
   "source": [
    "#considering only Active Subscribers\n",
    "combi_data=data[data['CurrentStatus']=='Active']"
   ]
  },
  {
   "cell_type": "code",
   "execution_count": 8,
   "metadata": {
    "collapsed": false,
    "scrolled": true
   },
   "outputs": [
    {
     "data": {
      "text/html": [
       "<div>\n",
       "<table border=\"1\" class=\"dataframe\">\n",
       "  <thead>\n",
       "    <tr style=\"text-align: right;\">\n",
       "      <th></th>\n",
       "      <th>ListID</th>\n",
       "    </tr>\n",
       "  </thead>\n",
       "  <tbody>\n",
       "    <tr>\n",
       "      <th>Your Health Tips</th>\n",
       "      <td>18384</td>\n",
       "    </tr>\n",
       "    <tr>\n",
       "      <th>Underground Art</th>\n",
       "      <td>9807</td>\n",
       "    </tr>\n",
       "    <tr>\n",
       "      <th>Monkey Madness</th>\n",
       "      <td>6822</td>\n",
       "    </tr>\n",
       "    <tr>\n",
       "      <th>Iguana Lovers Monthly</th>\n",
       "      <td>3472</td>\n",
       "    </tr>\n",
       "    <tr>\n",
       "      <th>Quesadilla Recipies</th>\n",
       "      <td>2719</td>\n",
       "    </tr>\n",
       "    <tr>\n",
       "      <th>Xtraordinarly GR8</th>\n",
       "      <td>2664</td>\n",
       "    </tr>\n",
       "    <tr>\n",
       "      <th>Epicurean Delights</th>\n",
       "      <td>2509</td>\n",
       "    </tr>\n",
       "    <tr>\n",
       "      <th>Iguana Lovers MonthlyYour Health Tips</th>\n",
       "      <td>2461</td>\n",
       "    </tr>\n",
       "    <tr>\n",
       "      <th>Dog Walkers Weekly</th>\n",
       "      <td>2278</td>\n",
       "    </tr>\n",
       "    <tr>\n",
       "      <th>Train Trips in the Ukraine</th>\n",
       "      <td>2112</td>\n",
       "    </tr>\n",
       "    <tr>\n",
       "      <th>Columbian Comedy</th>\n",
       "      <td>1886</td>\n",
       "    </tr>\n",
       "    <tr>\n",
       "      <th>Train Trips in the UkraineYour Health Tips</th>\n",
       "      <td>1282</td>\n",
       "    </tr>\n",
       "    <tr>\n",
       "      <th>Hobbies for Profit</th>\n",
       "      <td>1214</td>\n",
       "    </tr>\n",
       "    <tr>\n",
       "      <th>Artists in Australia</th>\n",
       "      <td>928</td>\n",
       "    </tr>\n",
       "    <tr>\n",
       "      <th>Fishing with Friends</th>\n",
       "      <td>845</td>\n",
       "    </tr>\n",
       "    <tr>\n",
       "      <th>Underground ArtYour Health Tips</th>\n",
       "      <td>640</td>\n",
       "    </tr>\n",
       "    <tr>\n",
       "      <th>Balkan News</th>\n",
       "      <td>614</td>\n",
       "    </tr>\n",
       "    <tr>\n",
       "      <th>Very Funky Finds</th>\n",
       "      <td>611</td>\n",
       "    </tr>\n",
       "    <tr>\n",
       "      <th>Dog Walkers WeeklyTrain Trips in the UkraineYour Health Tips</th>\n",
       "      <td>604</td>\n",
       "    </tr>\n",
       "    <tr>\n",
       "      <th>Monkey MadnessYour Health Tips</th>\n",
       "      <td>583</td>\n",
       "    </tr>\n",
       "    <tr>\n",
       "      <th>Kyoto Siteseeing</th>\n",
       "      <td>549</td>\n",
       "    </tr>\n",
       "    <tr>\n",
       "      <th>Llama Keepers</th>\n",
       "      <td>489</td>\n",
       "    </tr>\n",
       "    <tr>\n",
       "      <th>Nautical Novels</th>\n",
       "      <td>487</td>\n",
       "    </tr>\n",
       "    <tr>\n",
       "      <th>Dog Walkers WeeklyTrain Trips in the Ukraine</th>\n",
       "      <td>476</td>\n",
       "    </tr>\n",
       "    <tr>\n",
       "      <th>Iguana Lovers MonthlyUnderground ArtYour Health Tips</th>\n",
       "      <td>476</td>\n",
       "    </tr>\n",
       "  </tbody>\n",
       "</table>\n",
       "</div>"
      ],
      "text/plain": [
       "                                                    ListID\n",
       "Your Health Tips                                     18384\n",
       "Underground Art                                       9807\n",
       "Monkey Madness                                        6822\n",
       "Iguana Lovers Monthly                                 3472\n",
       "Quesadilla Recipies                                   2719\n",
       "Xtraordinarly GR8                                     2664\n",
       "Epicurean Delights                                    2509\n",
       "Iguana Lovers MonthlyYour Health Tips                 2461\n",
       "Dog Walkers Weekly                                    2278\n",
       "Train Trips in the Ukraine                            2112\n",
       "Columbian Comedy                                      1886\n",
       "Train Trips in the UkraineYour Health Tips            1282\n",
       "Hobbies for Profit                                    1214\n",
       "Artists in Australia                                   928\n",
       "Fishing with Friends                                   845\n",
       "Underground ArtYour Health Tips                        640\n",
       "Balkan News                                            614\n",
       "Very Funky Finds                                       611\n",
       "Dog Walkers WeeklyTrain Trips in the UkraineYou...     604\n",
       "Monkey MadnessYour Health Tips                         583\n",
       "Kyoto Siteseeing                                       549\n",
       "Llama Keepers                                          489\n",
       "Nautical Novels                                        487\n",
       "Dog Walkers WeeklyTrain Trips in the Ukraine           476\n",
       "Iguana Lovers MonthlyUnderground ArtYour Health...     476"
      ]
     },
     "execution_count": 8,
     "metadata": {},
     "output_type": "execute_result"
    }
   ],
   "source": [
    "combinat=combi_data.groupby(['SubscriberID']).ListID.sum().value_counts()\n",
    "combinat=pd.DataFrame(combinat)\n",
    "\n",
    "combinat.head(25)"
   ]
  },
  {
   "cell_type": "markdown",
   "metadata": {},
   "source": [
    "These are top 25 combinations of all the list ids. \"Your Health Tips\" has more subscribers exclusively with 18,384 subscribers.However, if combinations are considered \"Your Health Tips\" along with \"Iguana Lovers Monthly \" seems to be the combinations with the highest number of subscribers.\n",
    "\n",
    "All the top combinations have \"Your Health Tips\" as one of the lists."
   ]
  },
  {
   "cell_type": "code",
   "execution_count": 9,
   "metadata": {
    "collapsed": false
   },
   "outputs": [
    {
     "data": {
      "text/html": [
       "<div>\n",
       "<table border=\"1\" class=\"dataframe\">\n",
       "  <thead>\n",
       "    <tr style=\"text-align: right;\">\n",
       "      <th></th>\n",
       "      <th>ListID</th>\n",
       "    </tr>\n",
       "  </thead>\n",
       "  <tbody>\n",
       "    <tr>\n",
       "      <th>Artists in AustraliaBalkan NewsEpicurean DelightsIguana Lovers MonthlyMonkey MadnessUnderground ArtYour Health Tips</th>\n",
       "      <td>1</td>\n",
       "    </tr>\n",
       "    <tr>\n",
       "      <th>Artists in AustraliaEpicurean DelightsGardening and GreeneryMonkey MadnessShopping Bargin of the DayTrain Trips in the UkraineUnderground ArtYour Health Tips</th>\n",
       "      <td>1</td>\n",
       "    </tr>\n",
       "    <tr>\n",
       "      <th>Dog Walkers WeeklyIguana Lovers MonthlyRadical ReadingTrain Trips in the Ukraine</th>\n",
       "      <td>1</td>\n",
       "    </tr>\n",
       "    <tr>\n",
       "      <th>Balkan NewsDog Walkers WeeklyEpicurean DelightsIguana Lovers MonthlyMonkey MadnessShopping Bargin of the DayUnderground ArtYour Health Tips</th>\n",
       "      <td>1</td>\n",
       "    </tr>\n",
       "    <tr>\n",
       "      <th>Dog Walkers WeeklyEpicurean DelightsGardening and GreeneryKyoto SiteseeingLlama KeepersMonkey MadnessUnderground ArtYour Health Tips</th>\n",
       "      <td>1</td>\n",
       "    </tr>\n",
       "    <tr>\n",
       "      <th>Dog Walkers WeeklyEpicurean DelightsIguana Lovers MonthlyMonkey MadnessNautical NovelsShopping Bargin of the DayTrain Trips in the UkraineUnderground ArtXtraordinarly GR8Your Health Tips</th>\n",
       "      <td>1</td>\n",
       "    </tr>\n",
       "    <tr>\n",
       "      <th>Llama KeepersShopping Bargin of the DayUnderground ArtYour Health Tips</th>\n",
       "      <td>1</td>\n",
       "    </tr>\n",
       "    <tr>\n",
       "      <th>Dog Walkers WeeklyEpicurean DelightsHobbies for ProfitIguana Lovers MonthlyXtraordinarly GR8</th>\n",
       "      <td>1</td>\n",
       "    </tr>\n",
       "    <tr>\n",
       "      <th>Artists in AustraliaDog Walkers WeeklyEpicurean DelightsIguana Lovers MonthlyUnderground Art</th>\n",
       "      <td>1</td>\n",
       "    </tr>\n",
       "    <tr>\n",
       "      <th>Epicurean DelightsGardening and GreeneryLlama KeepersTrain Trips in the UkraineYour Health Tips</th>\n",
       "      <td>1</td>\n",
       "    </tr>\n",
       "    <tr>\n",
       "      <th>Balkan NewsDog Walkers WeeklyEpicurean DelightsMonkey Madness</th>\n",
       "      <td>1</td>\n",
       "    </tr>\n",
       "    <tr>\n",
       "      <th>Dog Walkers WeeklyEpicurean DelightsLlama KeepersShopping Bargin of the DayTrain Trips in the UkraineXtraordinarly GR8Your Health Tips</th>\n",
       "      <td>1</td>\n",
       "    </tr>\n",
       "    <tr>\n",
       "      <th>Artists in AustraliaTrain Trips in the UkraineUnderground Art</th>\n",
       "      <td>1</td>\n",
       "    </tr>\n",
       "    <tr>\n",
       "      <th>Epicurean DelightsGardening and GreeneryLlama KeepersMonkey MadnessTrain Trips in the UkraineUnderground Art</th>\n",
       "      <td>1</td>\n",
       "    </tr>\n",
       "    <tr>\n",
       "      <th>Balkan NewsDog Walkers WeeklyEpicurean DelightsLlama KeepersMonkey MadnessTrain Trips in the UkraineYour Health Tips</th>\n",
       "      <td>1</td>\n",
       "    </tr>\n",
       "    <tr>\n",
       "      <th>Epicurean DelightsIguana Lovers MonthlyKyoto SiteseeingShopping Bargin of the DayTrain Trips in the UkraineUnderground ArtYour Health Tips</th>\n",
       "      <td>1</td>\n",
       "    </tr>\n",
       "    <tr>\n",
       "      <th>Artists in AustraliaBalkan NewsDog Walkers WeeklyEpicurean DelightsGardening and GreeneryIguana Lovers MonthlyLlama KeepersMonkey MadnessQuesadilla RecipiesTrain Trips in the UkraineUnderground ArtXtraordinarly GR8Your Health Tips</th>\n",
       "      <td>1</td>\n",
       "    </tr>\n",
       "    <tr>\n",
       "      <th>Artists in AustraliaDog Walkers WeeklyEpicurean DelightsIguana Lovers MonthlyMonkey MadnessUnderground ArtYour Health Tips</th>\n",
       "      <td>1</td>\n",
       "    </tr>\n",
       "    <tr>\n",
       "      <th>Artists in AustraliaBalkan NewsEpicurean DelightsIguana Lovers MonthlyTrain Trips in the Ukraine</th>\n",
       "      <td>1</td>\n",
       "    </tr>\n",
       "    <tr>\n",
       "      <th>Artists in AustraliaBalkan NewsColumbian ComedyGardening and GreeneryIguana Lovers MonthlyMonkey MadnessNautical NovelsUnderground ArtVery Funky FindsXtraordinarly GR8Your Health Tips</th>\n",
       "      <td>1</td>\n",
       "    </tr>\n",
       "    <tr>\n",
       "      <th>Dog Walkers WeeklyGardening and GreeneryIguana Lovers MonthlyMonkey MadnessShopping Bargin of the DayTrain Trips in the UkraineUnderground ArtXtraordinarly GR8Your Health Tips</th>\n",
       "      <td>1</td>\n",
       "    </tr>\n",
       "    <tr>\n",
       "      <th>Artists in AustraliaLlama KeepersShopping Bargin of the DayTrain Trips in the UkraineYour Health Tips</th>\n",
       "      <td>1</td>\n",
       "    </tr>\n",
       "    <tr>\n",
       "      <th>Artists in AustraliaDog Walkers WeeklyShopping Bargin of the Day</th>\n",
       "      <td>1</td>\n",
       "    </tr>\n",
       "    <tr>\n",
       "      <th>Epicurean DelightsNautical NovelsXtraordinarly GR8Your Health Tips</th>\n",
       "      <td>1</td>\n",
       "    </tr>\n",
       "    <tr>\n",
       "      <th>Epicurean DelightsRadical Reading</th>\n",
       "      <td>1</td>\n",
       "    </tr>\n",
       "  </tbody>\n",
       "</table>\n",
       "</div>"
      ],
      "text/plain": [
       "                                                    ListID\n",
       "Artists in AustraliaBalkan NewsEpicurean Deligh...       1\n",
       "Artists in AustraliaEpicurean DelightsGardening...       1\n",
       "Dog Walkers WeeklyIguana Lovers MonthlyRadical ...       1\n",
       "Balkan NewsDog Walkers WeeklyEpicurean Delights...       1\n",
       "Dog Walkers WeeklyEpicurean DelightsGardening a...       1\n",
       "Dog Walkers WeeklyEpicurean DelightsIguana Love...       1\n",
       "Llama KeepersShopping Bargin of the DayUndergro...       1\n",
       "Dog Walkers WeeklyEpicurean DelightsHobbies for...       1\n",
       "Artists in AustraliaDog Walkers WeeklyEpicurean...       1\n",
       "Epicurean DelightsGardening and GreeneryLlama K...       1\n",
       "Balkan NewsDog Walkers WeeklyEpicurean Delights...       1\n",
       "Dog Walkers WeeklyEpicurean DelightsLlama Keepe...       1\n",
       "Artists in AustraliaTrain Trips in the UkraineU...       1\n",
       "Epicurean DelightsGardening and GreeneryLlama K...       1\n",
       "Balkan NewsDog Walkers WeeklyEpicurean Delights...       1\n",
       "Epicurean DelightsIguana Lovers MonthlyKyoto Si...       1\n",
       "Artists in AustraliaBalkan NewsDog Walkers Week...       1\n",
       "Artists in AustraliaDog Walkers WeeklyEpicurean...       1\n",
       "Artists in AustraliaBalkan NewsEpicurean Deligh...       1\n",
       "Artists in AustraliaBalkan NewsColumbian Comedy...       1\n",
       "Dog Walkers WeeklyGardening and GreeneryIguana ...       1\n",
       "Artists in AustraliaLlama KeepersShopping Bargi...       1\n",
       "Artists in AustraliaDog Walkers WeeklyShopping ...       1\n",
       "Epicurean DelightsNautical NovelsXtraordinarly ...       1\n",
       "Epicurean DelightsRadical Reading                        1"
      ]
     },
     "execution_count": 9,
     "metadata": {},
     "output_type": "execute_result"
    }
   ],
   "source": [
    "combinat.tail(25)"
   ]
  },
  {
   "cell_type": "code",
   "execution_count": null,
   "metadata": {
    "collapsed": true
   },
   "outputs": [],
   "source": [
    "These lists are active but their combinations donot "
   ]
  },
  {
   "cell_type": "code",
   "execution_count": 246,
   "metadata": {
    "collapsed": false
   },
   "outputs": [
    {
     "data": {
      "text/plain": [
       "2208"
      ]
     },
     "execution_count": 246,
     "metadata": {},
     "output_type": "execute_result"
    }
   ],
   "source": [
    "len(pd.DataFrame(combinat))"
   ]
  },
  {
   "cell_type": "markdown",
   "metadata": {},
   "source": [
    "<a id='combi'></a>\n",
    "# 5. Which lists have the greatest differences in the people who subscribe to them? E.g. People who subscribe to Balkan News very rarely subscribe to Artists in Australia."
   ]
  },
  {
   "cell_type": "markdown",
   "metadata": {},
   "source": [
    "you can view here https://public.tableau.com/shared/T3QYJCQB4?:display_count=yes"
   ]
  },
  {
   "cell_type": "code",
   "execution_count": 18,
   "metadata": {
    "collapsed": false
   },
   "outputs": [
    {
     "data": {
      "text/html": [
       "<div class='tableauPlaceholder' id='viz1498266413429' style='position: relative'><noscript><a href='#'><img alt='Combinations ' src='https:&#47;&#47;public.tableau.com&#47;static&#47;images&#47;Su&#47;Subscriber_2&#47;Combinations&#47;1_rss.png' style='border: none' /></a></noscript><object class='tableauViz'  style='display:none;'><param name='host_url' value='https%3A%2F%2Fpublic.tableau.com%2F' /> <param name='site_root' value='' /><param name='name' value='Subscriber_2&#47;Combinations' /><param name='tabs' value='no' /><param name='toolbar' value='yes' /><param name='static_image' value='https:&#47;&#47;public.tableau.com&#47;static&#47;images&#47;Su&#47;Subscriber_2&#47;Combinations&#47;1.png' /> <param name='animate_transition' value='yes' /><param name='display_static_image' value='yes' /><param name='display_spinner' value='yes' /><param name='display_overlay' value='yes' /><param name='display_count' value='yes' /></object></div>                <script type='text/javascript'>                    var divElement = document.getElementById('viz1498266413429');                    var vizElement = divElement.getElementsByTagName('object')[0];                    vizElement.style.width='100%';vizElement.style.height=(divElement.offsetWidth*0.75)+'px';                    var scriptElement = document.createElement('script');                    scriptElement.src = 'https://public.tableau.com/javascripts/api/viz_v1.js';                    vizElement.parentNode.insertBefore(scriptElement, vizElement);                </script>"
      ],
      "text/plain": [
       "<IPython.core.display.HTML object>"
      ]
     },
     "metadata": {},
     "output_type": "display_data"
    }
   ],
   "source": [
    "%%HTML\n",
    "<div class='tableauPlaceholder' id='viz1498266413429' style='position: relative'><noscript><a href='#'><img alt='Combinations ' src='https:&#47;&#47;public.tableau.com&#47;static&#47;images&#47;Su&#47;Subscriber_2&#47;Combinations&#47;1_rss.png' style='border: none' /></a></noscript><object class='tableauViz'  style='display:none;'><param name='host_url' value='https%3A%2F%2Fpublic.tableau.com%2F' /> <param name='site_root' value='' /><param name='name' value='Subscriber_2&#47;Combinations' /><param name='tabs' value='no' /><param name='toolbar' value='yes' /><param name='static_image' value='https:&#47;&#47;public.tableau.com&#47;static&#47;images&#47;Su&#47;Subscriber_2&#47;Combinations&#47;1.png' /> <param name='animate_transition' value='yes' /><param name='display_static_image' value='yes' /><param name='display_spinner' value='yes' /><param name='display_overlay' value='yes' /><param name='display_count' value='yes' /></object></div>                <script type='text/javascript'>                    var divElement = document.getElementById('viz1498266413429');                    var vizElement = divElement.getElementsByTagName('object')[0];                    vizElement.style.width='100%';vizElement.style.height=(divElement.offsetWidth*0.75)+'px';                    var scriptElement = document.createElement('script');                    scriptElement.src = 'https://public.tableau.com/javascripts/api/viz_v1.js';                    vizElement.parentNode.insertBefore(scriptElement, vizElement);                </script>"
   ]
  },
  {
   "cell_type": "markdown",
   "metadata": {
    "collapsed": true
   },
   "source": [
    "Please also address the following:\n",
    "\n",
    "● **Describe how would you obtain the information from Campaign Monitor. See https://help.campaignmonitor.com/support **\n",
    "\n",
    "- I signed up and created an account in campaign monitor site.I have verified my email address.Then i used the following code in terminal window\n",
    "\n",
    "import createsend\n",
    "curl -u \"69e35249484b8bd3057939c777511cf742ffe6d9a526f147:x\" https://api.createsend.com/api/v3.1/clients.json\\?pretty\\=true\n",
    "\n",
    "- I got my ClientID and apikey as follows\n",
    " - clientID: 646efa6184a25c52d844af3adaeea84d                        \n",
    " - apiKey: 69e35249484b8bd3057939c777511cf742ffe6d9a526f147\n",
    " \n",
    "since I did not have any data, nothing was found\n",
    " \n",
    "I tried the following code in python but it result me that i am unauthorized\n",
    "\n",
    "from createsend import *\n",
    "cs = CreateSend({'api_key': '69e35249484b8bd3057939c777511cf742ffe6d9a526f147'})\n",
    "clients = cs.clients()\n",
    "\n",
    "● ** Describe the methodology you would use to tackle the questions above **\n",
    "\n",
    "- I used Python and Tableau for Analysis and Data Visualisation.\n",
    "- I performed basic Exploratory Data Analysis to know my data set using python.\n",
    "- I also used Tableau for EDA.I figured out the value counts of ListIDs, Current Status, Data Entered Year etc.,\n",
    "- I considered active subscriber list to check how many subscribers subscribed to more than one list\n",
    "- https://public.tableau.com/views/Subscriber_2/Combinations?:embed=y&:display_count=yes visualisation gives answers for the following\n",
    "> - Fragmenting the newsletters is inefficient and results in an inconsistent experience for our customers.\n",
    "  - Lists which are most frequently subscribed to and whether to decommission some newsletters and how they might        potentially combine content.\n",
    "  - Fragmenting the channels make the client lose the opportunity to build a collective audience and get to know them better and potentially serve more targeted content in the future.\n",
    "\n",
    "\n"
   ]
  },
  {
   "cell_type": "code",
   "execution_count": null,
   "metadata": {
    "collapsed": true
   },
   "outputs": [],
   "source": []
  }
 ],
 "metadata": {
  "kernelspec": {
   "display_name": "Python 2",
   "language": "python",
   "name": "python2"
  },
  "language_info": {
   "codemirror_mode": {
    "name": "ipython",
    "version": 2
   },
   "file_extension": ".py",
   "mimetype": "text/x-python",
   "name": "python",
   "nbconvert_exporter": "python",
   "pygments_lexer": "ipython2",
   "version": "2.7.13"
  }
 },
 "nbformat": 4,
 "nbformat_minor": 2
}
