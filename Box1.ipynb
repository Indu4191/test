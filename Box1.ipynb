{
 "cells": [
  {
   "cell_type": "code",
   "execution_count": 1,
   "metadata": {},
   "outputs": [],
   "source": [
    "import numpy as np\n",
    "import pylab\n",
    "import pandas as pd\n",
    "%matplotlib inline"
   ]
  },
  {
   "cell_type": "code",
   "execution_count": 23,
   "metadata": {},
   "outputs": [],
   "source": [
    "data= pd.read_csv('kioks.csv')"
   ]
  },
  {
   "cell_type": "code",
   "execution_count": 24,
   "metadata": {},
   "outputs": [
    {
     "data": {
      "text/html": [
       "<div>\n",
       "<style>\n",
       "    .dataframe thead tr:only-child th {\n",
       "        text-align: right;\n",
       "    }\n",
       "\n",
       "    .dataframe thead th {\n",
       "        text-align: left;\n",
       "    }\n",
       "\n",
       "    .dataframe tbody tr th {\n",
       "        vertical-align: top;\n",
       "    }\n",
       "</style>\n",
       "<table border=\"1\" class=\"dataframe\">\n",
       "  <thead>\n",
       "    <tr style=\"text-align: right;\">\n",
       "      <th></th>\n",
       "      <th>Date</th>\n",
       "      <th>dimension1</th>\n",
       "      <th>sessions</th>\n",
       "      <th>hits</th>\n",
       "    </tr>\n",
       "  </thead>\n",
       "  <tbody>\n",
       "    <tr>\n",
       "      <th>0</th>\n",
       "      <td>3/04/2017</td>\n",
       "      <td>A01-5000-P-001</td>\n",
       "      <td>4</td>\n",
       "      <td>129</td>\n",
       "    </tr>\n",
       "    <tr>\n",
       "      <th>1</th>\n",
       "      <td>3/04/2017</td>\n",
       "      <td>A01-5000-P-002</td>\n",
       "      <td>5</td>\n",
       "      <td>40</td>\n",
       "    </tr>\n",
       "    <tr>\n",
       "      <th>2</th>\n",
       "      <td>3/04/2017</td>\n",
       "      <td>A01-5014-B-001</td>\n",
       "      <td>6</td>\n",
       "      <td>77</td>\n",
       "    </tr>\n",
       "    <tr>\n",
       "      <th>3</th>\n",
       "      <td>3/04/2017</td>\n",
       "      <td>A01-5165-B-001</td>\n",
       "      <td>4</td>\n",
       "      <td>68</td>\n",
       "    </tr>\n",
       "    <tr>\n",
       "      <th>4</th>\n",
       "      <td>3/04/2017</td>\n",
       "      <td>A04-5062-P-001</td>\n",
       "      <td>8</td>\n",
       "      <td>79</td>\n",
       "    </tr>\n",
       "  </tbody>\n",
       "</table>\n",
       "</div>"
      ],
      "text/plain": [
       "        Date      dimension1  sessions  hits\n",
       "0  3/04/2017  A01-5000-P-001         4   129\n",
       "1  3/04/2017  A01-5000-P-002         5    40\n",
       "2  3/04/2017  A01-5014-B-001         6    77\n",
       "3  3/04/2017  A01-5165-B-001         4    68\n",
       "4  3/04/2017  A04-5062-P-001         8    79"
      ]
     },
     "execution_count": 24,
     "metadata": {},
     "output_type": "execute_result"
    }
   ],
   "source": [
    "data.head(5)"
   ]
  },
  {
   "cell_type": "code",
   "execution_count": 4,
   "metadata": {},
   "outputs": [
    {
     "data": {
      "text/plain": [
       "Index(['Date', 'dimension1', 'sessions', 'hits'], dtype='object')"
      ]
     },
     "execution_count": 4,
     "metadata": {},
     "output_type": "execute_result"
    }
   ],
   "source": [
    "data.columns"
   ]
  },
  {
   "cell_type": "code",
   "execution_count": 25,
   "metadata": {
    "collapsed": true
   },
   "outputs": [],
   "source": [
    "data.set_index('Date',inplace = True)"
   ]
  },
  {
   "cell_type": "code",
   "execution_count": 26,
   "metadata": {},
   "outputs": [
    {
     "data": {
      "text/html": [
       "<div>\n",
       "<style>\n",
       "    .dataframe thead tr:only-child th {\n",
       "        text-align: right;\n",
       "    }\n",
       "\n",
       "    .dataframe thead th {\n",
       "        text-align: left;\n",
       "    }\n",
       "\n",
       "    .dataframe tbody tr th {\n",
       "        vertical-align: top;\n",
       "    }\n",
       "</style>\n",
       "<table border=\"1\" class=\"dataframe\">\n",
       "  <thead>\n",
       "    <tr style=\"text-align: right;\">\n",
       "      <th></th>\n",
       "      <th>dimension1</th>\n",
       "      <th>sessions</th>\n",
       "      <th>hits</th>\n",
       "    </tr>\n",
       "    <tr>\n",
       "      <th>Date</th>\n",
       "      <th></th>\n",
       "      <th></th>\n",
       "      <th></th>\n",
       "    </tr>\n",
       "  </thead>\n",
       "  <tbody>\n",
       "    <tr>\n",
       "      <th>3/04/2017</th>\n",
       "      <td>A01-5000-P-001</td>\n",
       "      <td>4</td>\n",
       "      <td>129</td>\n",
       "    </tr>\n",
       "    <tr>\n",
       "      <th>3/04/2017</th>\n",
       "      <td>A01-5000-P-002</td>\n",
       "      <td>5</td>\n",
       "      <td>40</td>\n",
       "    </tr>\n",
       "    <tr>\n",
       "      <th>3/04/2017</th>\n",
       "      <td>A01-5014-B-001</td>\n",
       "      <td>6</td>\n",
       "      <td>77</td>\n",
       "    </tr>\n",
       "  </tbody>\n",
       "</table>\n",
       "</div>"
      ],
      "text/plain": [
       "               dimension1  sessions  hits\n",
       "Date                                     \n",
       "3/04/2017  A01-5000-P-001         4   129\n",
       "3/04/2017  A01-5000-P-002         5    40\n",
       "3/04/2017  A01-5014-B-001         6    77"
      ]
     },
     "execution_count": 26,
     "metadata": {},
     "output_type": "execute_result"
    }
   ],
   "source": [
    "data.head(3)"
   ]
  },
  {
   "cell_type": "code",
   "execution_count": 27,
   "metadata": {},
   "outputs": [
    {
     "data": {
      "text/plain": [
       "array(['A01-5000-P-001', 'A01-5000-P-002', 'A01-5014-B-001',\n",
       "       'A01-5165-B-001', 'A04-5062-P-001', 'A05-5082-B-001',\n",
       "       'A05-5086-P-001', 'A05-5700-B-001', 'A06-5042-P-001',\n",
       "       'A07-5096-P-001', 'A10-5343-P-001', 'A12-2880-P-001',\n",
       "       'A13-5690-P-102', 'A14-5453-P-001', 'A16-5491-P-001',\n",
       "       'A17-5554-P-002', 'A20-5280-P-001', 'A21-5290-P-001',\n",
       "       'A22-5251-P-003', 'A23-5253-P-001', 'A25-5606-P-001',\n",
       "       'A27-5352-P-001', 'A28-5211-P-102', 'A29-5330-P-001',\n",
       "       'A30-5600-P-001', 'A32-5271-P-002', 'ALT-3025-P-102',\n",
       "       'ALT-3025-P-201', 'B02-4551-P-002', 'B04-4610-P-001',\n",
       "       'B06-4105-P-001', 'B06-4105-P-002', 'B06-4118-B-001',\n",
       "       'B07-4170-P-001', 'B07-4178-B-001', 'B09-4127-P-101',\n",
       "       'B09-4127-P-201', 'B09-4163-B-103', 'B10-4500-P-001',\n",
       "       'B10-4509-B-002', 'B13-2478-P-001', 'B14-4285-P-105',\n",
       "       'B15-4370-B-001', 'B15-4401-B-102', 'B15-4405-P-001',\n",
       "       'B15-4413-B-001', 'B15-4455-B-002', 'B16-4343-P-001',\n",
       "       'B17-2400-B-001', 'B17-4390-P-001', 'B18-2460-P-001',\n",
       "       'B19-2480-P-001', 'B21-4211-B-103', 'B21-4226-P-001',\n",
       "       'B25-4215-P-002', 'B26-4487-P-103', 'B28-4350-P-001',\n",
       "       'B29-2486-P-001', 'B33-4102-P-001', 'B33-4122-B-001',\n",
       "       'B34-4670-P-104', 'B35-4506-P-001', 'B36-4720-P-001',\n",
       "       'B37-4680-P-001', 'B38-4566-B-102', 'B38-4570-P-102',\n",
       "       'B39-4304-P-001', 'B41-4650-B-001', 'B41-4655-P-001',\n",
       "       'B42-4715-P-001', 'B43-4558-B-002', 'B43-4560-P-001',\n",
       "       'B44-4700-P-001', 'B44-4703-B-103', 'B46-4313-P-001',\n",
       "       'B48-4010-B-001', 'B48-4031-P-001', 'B48-4068-B-102',\n",
       "       'CHQ-3207-P-001', 'CHQ-3207-P-201', 'CRO-5039-P-002',\n",
       "       'D01-0870-P-001', 'D02-0800-P-002', 'D02-0830-B-103',\n",
       "       'D03-0850-P-001', 'D05-0880-P-001', 'ERO-2229-P-102',\n",
       "       'F01-6021-P-002', 'F03-6110-P-001', 'F03-6155-B-001',\n",
       "       'F05-6156-P-003', 'F06-6076-B-001', 'F06-6106-P-001',\n",
       "       'F07-6062-P-002', 'F09-6056-P-001', 'F10-6017-P-001',\n",
       "       'F12-6168-P-001', 'F13-6330-P-001', 'F14-6725-P-001',\n",
       "       'F15-6230-P-001', 'F16-6280-P-001', 'F17-6701-P-001',\n",
       "       'F21-6450-P-001', 'F22-6530-P-102', 'F24-6430-P-102',\n",
       "       'F26-6210-P-001', 'F27-6258-P-001', 'F29-6510-P-102',\n",
       "       'F31-6401-P-001', 'F32-6714-B-102', 'F32-6721-P-103',\n",
       "       'F32-6753-B-101', 'F34-6603-P-001', 'F35-6317-P-001',\n",
       "       'F38-6030-B-002', 'F38-6065-P-001', 'F39-6003-P-004',\n",
       "       'F39-6003-P-005', 'F39-6009-B-001', 'H02-7310-P-001',\n",
       "       'H02-7320-B-001', 'H03-7000-P-001', 'H03-7051-B-001',\n",
       "       'M01-3058-P-001', 'M02-3175-P-002', 'M03-3042-P-001',\n",
       "       'M04-3220-P-001', 'M05-3150-P-102', 'M06-3444-P-001',\n",
       "       'M07-3337-P-001', 'M09-3131-P-001', 'M09-3131-P-002',\n",
       "       'M10-3166-P-001', 'M11-3185-P-001', 'M11-3185-P-002',\n",
       "       'M11-3194-B-003', 'M12-3029-P-101', 'M12-3030-P-001',\n",
       "       'M13-3805-P-001', 'M13-3810-B-001', 'M15-3156-P-001',\n",
       "       'M16-3012-P-001', 'M17-3199-P-001', 'M17-3977-B-001',\n",
       "       'M18-3084-P-001', 'M19-3136-B-001', 'M19-3140-P-001',\n",
       "       'M20-3072-P-001', 'M20-3082-B-001', 'M21-3931-P-001',\n",
       "       'M21-3939-B-001', 'M23-3124-P-001', 'M27-3465-P-001',\n",
       "       'M28-3820-P-001', 'M29-3000-P-102', 'M30-3250-P-001',\n",
       "       'M31-3672-P-001', 'M32-3551-P-001', 'M34-3450-P-001',\n",
       "       'M35-3644-P-003', 'M38-2710-P-001', 'M39-3564-P-001',\n",
       "       'M40-2711-P-001', 'M41-3777-P-001', 'M44-3620-P-002',\n",
       "       'M45-3502-P-001', 'M45-3502-P-102', 'M47-3660-P-001',\n",
       "       'M47-3764-B-001', 'M48-3630-P-104', 'M49-3677-P-001',\n",
       "       'M50-3875-P-003', 'M51-3350-P-001', 'M53-3280-P-001',\n",
       "       'M55-3300-P-002', 'M58-3419-P-001', 'M59-3995-P-001',\n",
       "       'M65-3400-B-001', 'M68-3844-P-104', 'M69-3690-P-102',\n",
       "       'M72-3953-P-001', 'M74-3850-P-001', 'M75-3023-P-001',\n",
       "       'M99-3585-P-002', 'NDM-2017-P-501', 'NRO-4110-P-001',\n",
       "       'PHQ-3207-P-001', 'S01-2100-P-001', 'S02-2606-B-001',\n",
       "       'S02-2609-B-001', 'S02-2617-P-102', 'S03-2067-P-002',\n",
       "       'S03-2067-P-102', 'S03-2114-B-102', 'S04-2900-P-001',\n",
       "       'S05-2161-P-001', 'S07-2088-P-001', 'S08-2150-P-102',\n",
       "       'S09-2132-B-001', 'S09-2141-P-001', 'S10-2500-B-001',\n",
       "       'S10-2527-P-001', 'S11-2148-P-001', 'S11-2148-P-002',\n",
       "       'S12-2577-P-001', 'S13-2190-P-003', 'S14-2192-P-001',\n",
       "       'S14-2220-B-001', 'S16-2170-P-001', 'S18-2216-B-001',\n",
       "       'S18-2232-P-001', 'S20-2285-P-001', 'S21-2154-P-103',\n",
       "       'S22-2290-B-001', 'S22-2303-P-001', 'S25-2120-P-002',\n",
       "       'S26-2747-P-001', 'S28-2077-P-001', 'S29-2756-P-002',\n",
       "       'S33-2325-P-001', 'S35-2450-P-001', 'S38-2380-P-001',\n",
       "       'S40-2440-P-001', 'S41-2316-B-102', 'S41-2323-P-001',\n",
       "       'S45-2390-P-001', 'S46-2444-P-002', 'S48-2333-P-001',\n",
       "       'S49-2330-P-001', 'S50-2340-P-105', 'S50-2350-B-001',\n",
       "       'S50-2360-B-001', 'S51-2430-P-102', 'S52-2795-P-002',\n",
       "       'S57-2794-P-001', 'S58-2827-B-001', 'S58-2830-P-001',\n",
       "       'S61-2790-P-001', 'S62-2850-P-001', 'S63-2825-P-001',\n",
       "       'S64-2800-P-002', 'S65-2870-P-001', 'S66-2824-P-001',\n",
       "       'S67-2820-P-002', 'S68-2671-P-001', 'S69-2550-P-001',\n",
       "       'S71-2630-P-001', 'S72-2590-P-001', 'S73-2551-P-002',\n",
       "       'S74-2580-P-001', 'S75-2680-P-001', 'S77-2537-P-001',\n",
       "       'S81-2539-B-001', 'S81-2541-P-001', 'S82-2720-P-001',\n",
       "       'S84-2650-P-001', 'S85-2582-P-001', 'S86-2594-P-001',\n",
       "       'S89-2632-P-001', 'S92-2017-P-001', 'S92-2017-P-002',\n",
       "       'S92-2037-B-001', 'S93-2560-P-001', 'S93-2560-P-002',\n",
       "       'S93-2567-B-001', 'S95-2250-P-102', 'S95-2259-B-001',\n",
       "       'SRO-3207-P-002', 'T01-4883-P-102', 'T02-4807-P-001',\n",
       "       'T04-4870-P-002', 'T05-4820-P-001', 'T09-4740-P-001',\n",
       "       'T10-4880-P-001', 'T11-4825-P-102', 'T12-4800-P-002',\n",
       "       'T13-4814-P-103', 'T13-4850-B-001', 'T14-4854-P-001',\n",
       "       'TMS-2064-P-101', 'TWA-6105-P-003', 'WWB-2229-P-103',\n",
       "       'H05-7249-P-001', 'M29-3205-B-001', 'S47-2343-P-002',\n",
       "       'TFS-2065-P-001', 'B20-2484-P-104', 'S13-2190-P-104',\n",
       "       'PAD-0000-N-003', 'NDM-2017-P-601', 'B36-4730-B-101',\n",
       "       'WWB-2229-P-102', 'A20-5280-P-102', 'M17-3198-P-001',\n",
       "       'S48-2337-P-001', 'PAD-0000-N-004', 'TWA-6105-P-104',\n",
       "       'B36-4730-B-102', 'PAD-0000-N-002', 'TWA-6105-P-105',\n",
       "       'S10-2527-P-102', 'B33-4102-P-102', 'M13-3805-P-101',\n",
       "       'S16-2170-P-102', 'S81-2541-P-102'], dtype=object)"
      ]
     },
     "execution_count": 27,
     "metadata": {},
     "output_type": "execute_result"
    }
   ],
   "source": [
    "data['dimension1'].unique()"
   ]
  },
  {
   "cell_type": "code",
   "execution_count": 6,
   "metadata": {},
   "outputs": [],
   "source": [
    "# let us check data for 'A01-5000-P-001' box"
   ]
  },
  {
   "cell_type": "code",
   "execution_count": 28,
   "metadata": {
    "collapsed": true
   },
   "outputs": [],
   "source": [
    "box1= data[data.dimension1 == 'A01-5000-P-001']"
   ]
  },
  {
   "cell_type": "code",
   "execution_count": 29,
   "metadata": {},
   "outputs": [
    {
     "data": {
      "text/html": [
       "<div>\n",
       "<style>\n",
       "    .dataframe thead tr:only-child th {\n",
       "        text-align: right;\n",
       "    }\n",
       "\n",
       "    .dataframe thead th {\n",
       "        text-align: left;\n",
       "    }\n",
       "\n",
       "    .dataframe tbody tr th {\n",
       "        vertical-align: top;\n",
       "    }\n",
       "</style>\n",
       "<table border=\"1\" class=\"dataframe\">\n",
       "  <thead>\n",
       "    <tr style=\"text-align: right;\">\n",
       "      <th></th>\n",
       "      <th>dimension1</th>\n",
       "      <th>sessions</th>\n",
       "      <th>hits</th>\n",
       "    </tr>\n",
       "    <tr>\n",
       "      <th>Date</th>\n",
       "      <th></th>\n",
       "      <th></th>\n",
       "      <th></th>\n",
       "    </tr>\n",
       "  </thead>\n",
       "  <tbody>\n",
       "    <tr>\n",
       "      <th>3/04/2017</th>\n",
       "      <td>A01-5000-P-001</td>\n",
       "      <td>4</td>\n",
       "      <td>129</td>\n",
       "    </tr>\n",
       "    <tr>\n",
       "      <th>4/04/2017</th>\n",
       "      <td>A01-5000-P-001</td>\n",
       "      <td>3</td>\n",
       "      <td>5</td>\n",
       "    </tr>\n",
       "    <tr>\n",
       "      <th>5/04/2017</th>\n",
       "      <td>A01-5000-P-001</td>\n",
       "      <td>1</td>\n",
       "      <td>2</td>\n",
       "    </tr>\n",
       "    <tr>\n",
       "      <th>6/04/2017</th>\n",
       "      <td>A01-5000-P-001</td>\n",
       "      <td>2</td>\n",
       "      <td>4</td>\n",
       "    </tr>\n",
       "    <tr>\n",
       "      <th>7/04/2017</th>\n",
       "      <td>A01-5000-P-001</td>\n",
       "      <td>4</td>\n",
       "      <td>45</td>\n",
       "    </tr>\n",
       "  </tbody>\n",
       "</table>\n",
       "</div>"
      ],
      "text/plain": [
       "               dimension1  sessions  hits\n",
       "Date                                     \n",
       "3/04/2017  A01-5000-P-001         4   129\n",
       "4/04/2017  A01-5000-P-001         3     5\n",
       "5/04/2017  A01-5000-P-001         1     2\n",
       "6/04/2017  A01-5000-P-001         2     4\n",
       "7/04/2017  A01-5000-P-001         4    45"
      ]
     },
     "execution_count": 29,
     "metadata": {},
     "output_type": "execute_result"
    }
   ],
   "source": [
    "box1.head()"
   ]
  },
  {
   "cell_type": "code",
   "execution_count": 30,
   "metadata": {},
   "outputs": [],
   "source": [
    "box1_sessions=pd.DataFrame(data=box1,columns=[['sessions']])\n"
   ]
  },
  {
   "cell_type": "code",
   "execution_count": 33,
   "metadata": {},
   "outputs": [],
   "source": [
    "#box1_sessions.reset_index()\n",
    "#box1_sessions=pd.DataFrame(data=box1_sessions,columns =[['Date','sessions']])\n",
    "box1_sessions.reset_index(inplace = True)"
   ]
  },
  {
   "cell_type": "code",
   "execution_count": 34,
   "metadata": {},
   "outputs": [],
   "source": [
    "box1_sessions['Date'] = pd.to_datetime(box1_sessions['Date'])"
   ]
  },
  {
   "cell_type": "code",
   "execution_count": 35,
   "metadata": {
    "collapsed": true
   },
   "outputs": [],
   "source": [
    "box1_sessions.set_index('Date',inplace = True)"
   ]
  },
  {
   "cell_type": "code",
   "execution_count": 36,
   "metadata": {},
   "outputs": [
    {
     "data": {
      "text/html": [
       "<div>\n",
       "<style>\n",
       "    .dataframe thead tr:only-child th {\n",
       "        text-align: right;\n",
       "    }\n",
       "\n",
       "    .dataframe thead th {\n",
       "        text-align: left;\n",
       "    }\n",
       "\n",
       "    .dataframe tbody tr th {\n",
       "        vertical-align: top;\n",
       "    }\n",
       "</style>\n",
       "<table border=\"1\" class=\"dataframe\">\n",
       "  <thead>\n",
       "    <tr style=\"text-align: right;\">\n",
       "      <th></th>\n",
       "      <th>sessions</th>\n",
       "    </tr>\n",
       "    <tr>\n",
       "      <th>Date</th>\n",
       "      <th></th>\n",
       "    </tr>\n",
       "  </thead>\n",
       "  <tbody>\n",
       "    <tr>\n",
       "      <th>2017-03-04</th>\n",
       "      <td>4</td>\n",
       "    </tr>\n",
       "    <tr>\n",
       "      <th>2017-04-04</th>\n",
       "      <td>3</td>\n",
       "    </tr>\n",
       "    <tr>\n",
       "      <th>2017-05-04</th>\n",
       "      <td>1</td>\n",
       "    </tr>\n",
       "    <tr>\n",
       "      <th>2017-06-04</th>\n",
       "      <td>2</td>\n",
       "    </tr>\n",
       "    <tr>\n",
       "      <th>2017-07-04</th>\n",
       "      <td>4</td>\n",
       "    </tr>\n",
       "  </tbody>\n",
       "</table>\n",
       "</div>"
      ],
      "text/plain": [
       "            sessions\n",
       "Date                \n",
       "2017-03-04         4\n",
       "2017-04-04         3\n",
       "2017-05-04         1\n",
       "2017-06-04         2\n",
       "2017-07-04         4"
      ]
     },
     "execution_count": 36,
     "metadata": {},
     "output_type": "execute_result"
    }
   ],
   "source": [
    "box1_sessions.head(5)"
   ]
  },
  {
   "cell_type": "code",
   "execution_count": 37,
   "metadata": {},
   "outputs": [
    {
     "data": {
      "text/plain": [
       "dtype('<M8[ns]')"
      ]
     },
     "execution_count": 37,
     "metadata": {},
     "output_type": "execute_result"
    }
   ],
   "source": [
    "box1_sessions.index.dtype"
   ]
  },
  {
   "cell_type": "code",
   "execution_count": 47,
   "metadata": {},
   "outputs": [
    {
     "data": {
      "text/plain": [
       "<matplotlib.figure.Figure at 0xa6e8588>"
      ]
     },
     "metadata": {},
     "output_type": "display_data"
    },
    {
     "data": {
      "image/png": "[encoded data removed]",
      "text/plain": [
       "<matplotlib.figure.Figure at 0xbff6518>"
      ]
     },
     "metadata": {},
     "output_type": "display_data"
    }
   ],
   "source": [
    "from matplotlib import pyplot as plt\n",
    "plt.figure(figsize=(18,14))\n",
    "box1_sessions.plot()\n",
    "plt.show()"
   ]
  },
  {
   "cell_type": "code",
   "execution_count": 49,
   "metadata": {},
   "outputs": [
    {
     "name": "stderr",
     "output_type": "stream",
     "text": [
      "C:\\ProgramData\\Anaconda3\\lib\\site-packages\\ipykernel_launcher.py:2: FutureWarning: 'pandas.tools.plotting.autocorrelation_plot' is deprecated, import 'pandas.plotting.autocorrelation_plot' instead.\n",
      "  \n"
     ]
    },
    {
     "data": {
      "image/png": "[encoded data removed]",
      "text/plain": [
       "<matplotlib.figure.Figure at 0xbf43160>"
      ]
     },
     "metadata": {},
     "output_type": "display_data"
    }
   ],
   "source": [
    "from pandas.tools.plotting import autocorrelation_plot\n",
    "autocorrelation_plot(box1_sessions)\n",
    "plt.show()"
   ]
  },
  {
   "cell_type": "code",
   "execution_count": 51,
   "metadata": {},
   "outputs": [
    {
     "ename": "TypeError",
     "evalue": "Cannot cast ufunc subtract output from dtype('float64') to dtype('int64') with casting rule 'same_kind'",
     "output_type": "error",
     "traceback": [
      "\u001b[1;31m---------------------------------------------------------------------------\u001b[0m",
      "\u001b[1;31mTypeError\u001b[0m                                 Traceback (most recent call last)",
      "\u001b[1;32m<ipython-input-51-6eadbec73ddb>\u001b[0m in \u001b[0;36m<module>\u001b[1;34m()\u001b[0m\n\u001b[0;32m      3\u001b[0m \u001b[1;31m# fit model\u001b[0m\u001b[1;33m\u001b[0m\u001b[1;33m\u001b[0m\u001b[0m\n\u001b[0;32m      4\u001b[0m \u001b[0mmodel\u001b[0m \u001b[1;33m=\u001b[0m \u001b[0mARIMA\u001b[0m\u001b[1;33m(\u001b[0m\u001b[0mbox1_sessions\u001b[0m\u001b[1;33m,\u001b[0m \u001b[0morder\u001b[0m\u001b[1;33m=\u001b[0m\u001b[1;33m(\u001b[0m\u001b[1;36m2\u001b[0m\u001b[1;33m,\u001b[0m\u001b[1;36m1\u001b[0m\u001b[1;33m,\u001b[0m\u001b[1;36m0\u001b[0m\u001b[1;33m)\u001b[0m\u001b[1;33m)\u001b[0m\u001b[1;33m\u001b[0m\u001b[0m\n\u001b[1;32m----> 5\u001b[1;33m \u001b[0mmodel_fit\u001b[0m \u001b[1;33m=\u001b[0m \u001b[0mmodel\u001b[0m\u001b[1;33m.\u001b[0m\u001b[0mfit\u001b[0m\u001b[1;33m(\u001b[0m\u001b[0mdisp\u001b[0m\u001b[1;33m=\u001b[0m\u001b[1;36m0\u001b[0m\u001b[1;33m)\u001b[0m\u001b[1;33m\u001b[0m\u001b[0m\n\u001b[0m\u001b[0;32m      6\u001b[0m \u001b[0mprint\u001b[0m\u001b[1;33m(\u001b[0m\u001b[0mmodel_fit\u001b[0m\u001b[1;33m.\u001b[0m\u001b[0msummary\u001b[0m\u001b[1;33m(\u001b[0m\u001b[1;33m)\u001b[0m\u001b[1;33m)\u001b[0m\u001b[1;33m\u001b[0m\u001b[0m\n\u001b[0;32m      7\u001b[0m \u001b[1;31m# plot residual errors\u001b[0m\u001b[1;33m\u001b[0m\u001b[1;33m\u001b[0m\u001b[0m\n",
      "\u001b[1;32mC:\\ProgramData\\Anaconda3\\lib\\site-packages\\statsmodels\\tsa\\arima_model.py\u001b[0m in \u001b[0;36mfit\u001b[1;34m(self, start_params, trend, method, transparams, solver, maxiter, full_output, disp, callback, start_ar_lags, **kwargs)\u001b[0m\n\u001b[0;32m   1149\u001b[0m                                            \u001b[0mmethod\u001b[0m\u001b[1;33m,\u001b[0m \u001b[0mtransparams\u001b[0m\u001b[1;33m,\u001b[0m \u001b[0msolver\u001b[0m\u001b[1;33m,\u001b[0m\u001b[1;33m\u001b[0m\u001b[0m\n\u001b[0;32m   1150\u001b[0m                                            \u001b[0mmaxiter\u001b[0m\u001b[1;33m,\u001b[0m \u001b[0mfull_output\u001b[0m\u001b[1;33m,\u001b[0m \u001b[0mdisp\u001b[0m\u001b[1;33m,\u001b[0m\u001b[1;33m\u001b[0m\u001b[0m\n\u001b[1;32m-> 1151\u001b[1;33m                                            callback, start_ar_lags, **kwargs)\n\u001b[0m\u001b[0;32m   1152\u001b[0m         \u001b[0mnormalized_cov_params\u001b[0m \u001b[1;33m=\u001b[0m \u001b[1;32mNone\u001b[0m  \u001b[1;31m# TODO: fix this?\u001b[0m\u001b[1;33m\u001b[0m\u001b[0m\n\u001b[0;32m   1153\u001b[0m         arima_fit = ARIMAResults(self, mlefit._results.params,\n",
      "\u001b[1;32mC:\\ProgramData\\Anaconda3\\lib\\site-packages\\statsmodels\\tsa\\arima_model.py\u001b[0m in \u001b[0;36mfit\u001b[1;34m(self, start_params, trend, method, transparams, solver, maxiter, full_output, disp, callback, start_ar_lags, **kwargs)\u001b[0m\n\u001b[0;32m    954\u001b[0m         \u001b[1;32melse\u001b[0m\u001b[1;33m:\u001b[0m  \u001b[1;31m# estimate starting parameters\u001b[0m\u001b[1;33m\u001b[0m\u001b[0m\n\u001b[0;32m    955\u001b[0m             start_params = self._fit_start_params((k_ar, k_ma, k), method,\n\u001b[1;32m--> 956\u001b[1;33m                                                   start_ar_lags)\n\u001b[0m\u001b[0;32m    957\u001b[0m \u001b[1;33m\u001b[0m\u001b[0m\n\u001b[0;32m    958\u001b[0m         \u001b[1;32mif\u001b[0m \u001b[0mtransparams\u001b[0m\u001b[1;33m:\u001b[0m  \u001b[1;31m# transform initial parameters to ensure invertibility\u001b[0m\u001b[1;33m\u001b[0m\u001b[0m\n",
      "\u001b[1;32mC:\\ProgramData\\Anaconda3\\lib\\site-packages\\statsmodels\\tsa\\arima_model.py\u001b[0m in \u001b[0;36m_fit_start_params\u001b[1;34m(self, order, method, start_ar_lags)\u001b[0m\n\u001b[0;32m    576\u001b[0m             \u001b[0mfunc\u001b[0m \u001b[1;33m=\u001b[0m \u001b[1;32mlambda\u001b[0m \u001b[0mparams\u001b[0m\u001b[1;33m:\u001b[0m \u001b[1;33m-\u001b[0m\u001b[0mself\u001b[0m\u001b[1;33m.\u001b[0m\u001b[0mloglike_css\u001b[0m\u001b[1;33m(\u001b[0m\u001b[0mparams\u001b[0m\u001b[1;33m)\u001b[0m\u001b[1;33m\u001b[0m\u001b[0m\n\u001b[0;32m    577\u001b[0m             \u001b[1;31m#start_params = [.1]*(k_ar+k_ma+k_exog) # different one for k?\u001b[0m\u001b[1;33m\u001b[0m\u001b[1;33m\u001b[0m\u001b[0m\n\u001b[1;32m--> 578\u001b[1;33m             \u001b[0mstart_params\u001b[0m \u001b[1;33m=\u001b[0m \u001b[0mself\u001b[0m\u001b[1;33m.\u001b[0m\u001b[0m_fit_start_params_hr\u001b[0m\u001b[1;33m(\u001b[0m\u001b[0morder\u001b[0m\u001b[1;33m,\u001b[0m \u001b[0mstart_ar_lags\u001b[0m\u001b[1;33m)\u001b[0m\u001b[1;33m\u001b[0m\u001b[0m\n\u001b[0m\u001b[0;32m    579\u001b[0m             \u001b[1;32mif\u001b[0m \u001b[0mself\u001b[0m\u001b[1;33m.\u001b[0m\u001b[0mtransparams\u001b[0m\u001b[1;33m:\u001b[0m\u001b[1;33m\u001b[0m\u001b[0m\n\u001b[0;32m    580\u001b[0m                 \u001b[0mstart_params\u001b[0m \u001b[1;33m=\u001b[0m \u001b[0mself\u001b[0m\u001b[1;33m.\u001b[0m\u001b[0m_invtransparams\u001b[0m\u001b[1;33m(\u001b[0m\u001b[0mstart_params\u001b[0m\u001b[1;33m)\u001b[0m\u001b[1;33m\u001b[0m\u001b[0m\n",
      "\u001b[1;32mC:\\ProgramData\\Anaconda3\\lib\\site-packages\\statsmodels\\tsa\\arima_model.py\u001b[0m in \u001b[0;36m_fit_start_params_hr\u001b[1;34m(self, order, start_ar_lags)\u001b[0m\n\u001b[0;32m    506\u001b[0m             \u001b[0mols_params\u001b[0m \u001b[1;33m=\u001b[0m \u001b[0mGLS\u001b[0m\u001b[1;33m(\u001b[0m\u001b[0mendog\u001b[0m\u001b[1;33m,\u001b[0m \u001b[0mexog\u001b[0m\u001b[1;33m)\u001b[0m\u001b[1;33m.\u001b[0m\u001b[0mfit\u001b[0m\u001b[1;33m(\u001b[0m\u001b[1;33m)\u001b[0m\u001b[1;33m.\u001b[0m\u001b[0mparams\u001b[0m\u001b[1;33m\u001b[0m\u001b[0m\n\u001b[0;32m    507\u001b[0m             \u001b[0mstart_params\u001b[0m\u001b[1;33m[\u001b[0m\u001b[1;33m:\u001b[0m\u001b[0mk\u001b[0m\u001b[1;33m]\u001b[0m \u001b[1;33m=\u001b[0m \u001b[0mols_params\u001b[0m\u001b[1;33m\u001b[0m\u001b[0m\n\u001b[1;32m--> 508\u001b[1;33m             \u001b[0mendog\u001b[0m \u001b[1;33m-=\u001b[0m \u001b[0mnp\u001b[0m\u001b[1;33m.\u001b[0m\u001b[0mdot\u001b[0m\u001b[1;33m(\u001b[0m\u001b[0mexog\u001b[0m\u001b[1;33m,\u001b[0m \u001b[0mols_params\u001b[0m\u001b[1;33m)\u001b[0m\u001b[1;33m.\u001b[0m\u001b[0msqueeze\u001b[0m\u001b[1;33m(\u001b[0m\u001b[1;33m)\u001b[0m\u001b[1;33m\u001b[0m\u001b[0m\n\u001b[0m\u001b[0;32m    509\u001b[0m         \u001b[1;32mif\u001b[0m \u001b[0mq\u001b[0m \u001b[1;33m!=\u001b[0m \u001b[1;36m0\u001b[0m\u001b[1;33m:\u001b[0m\u001b[1;33m\u001b[0m\u001b[0m\n\u001b[0;32m    510\u001b[0m             \u001b[1;32mif\u001b[0m \u001b[0mp\u001b[0m \u001b[1;33m!=\u001b[0m \u001b[1;36m0\u001b[0m\u001b[1;33m:\u001b[0m\u001b[1;33m\u001b[0m\u001b[0m\n",
      "\u001b[1;31mTypeError\u001b[0m: Cannot cast ufunc subtract output from dtype('float64') to dtype('int64') with casting rule 'same_kind'"
     ]
    }
   ],
   "source": [
    "from pandas import DataFrame\n",
    "from statsmodels.tsa.arima_model import ARIMA\n",
    "# fit model\n",
    "model = ARIMA(box1_sessions, order=(5,1,0))\n",
    "model_fit = model.fit(disp=0)\n",
    "print(model_fit.summary())\n",
    "# plot residual errors\n",
    "residuals = DataFrame(model_fit.resid)\n",
    "residuals.plot()\n",
    "plt.show()\n",
    "residuals.plot(kind='kde')\n",
    "plt.show()\n",
    "print(residuals.describe())"
   ]
  },
  {
   "cell_type": "code",
   "execution_count": null,
   "metadata": {
    "collapsed": true
   },
   "outputs": [],
   "source": []
  }
 ],
 "metadata": {
  "kernelspec": {
   "display_name": "Python 3",
   "language": "python",
   "name": "python3"
  },
  "language_info": {
   "codemirror_mode": {
    "name": "ipython",
    "version": 3
   },
   "file_extension": ".py",
   "mimetype": "text/x-python",
   "name": "python",
   "nbconvert_exporter": "python",
   "pygments_lexer": "ipython3",
   "version": "3.6.1"
  }
 },
 "nbformat": 4,
 "nbformat_minor": 2
}
